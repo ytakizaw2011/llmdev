{
 "cells": [
  {
   "cell_type": "code",
   "execution_count": 10,
   "id": "615e2008",
   "metadata": {},
   "outputs": [],
   "source": [
    "def validation_check(name):\n",
    "    if len(name) < 5 or len(name) > 15:\n",
    "        print(\"エラー： ユーザー名は5文字以上15文字以内で入力してください\")\n",
    "        return False\n",
    "    elif \" \" in name or \"　\" in name:\n",
    "        print(\"エラー： ユーザー名に空白を含めることはできません\")\n",
    "        return False\n",
    "    elif name.isalnum() is False:\n",
    "        print(\"エラー： ユーザー名は英数字のみ使用できます\")\n",
    "    else:\n",
    "        return True\n"
   ]
  },
  {
   "cell_type": "code",
   "execution_count": 13,
   "id": "82f65111",
   "metadata": {},
   "outputs": [
    {
     "name": "stdout",
     "output_type": "stream",
     "text": [
      "ユーザー名を入力してください：JohnDoe123\n",
      "ユーザー名は有効です\n"
     ]
    }
   ],
   "source": [
    "print(\"ユーザー名を入力してください：\", end=\"\", flush=True)\n",
    "name = input(\"\")\n",
    "print(name)\n",
    "\n",
    "res = validation_check(name)\n",
    "\n",
    "if res:\n",
    "    print(\"ユーザー名は有効です\")\n",
    "else:\n",
    "    print(\"不正なユーザー名です\")\n"
   ]
  }
 ],
 "metadata": {
  "kernelspec": {
   "display_name": ".venv",
   "language": "python",
   "name": "python3"
  },
  "language_info": {
   "codemirror_mode": {
    "name": "ipython",
    "version": 3
   },
   "file_extension": ".py",
   "mimetype": "text/x-python",
   "name": "python",
   "nbconvert_exporter": "python",
   "pygments_lexer": "ipython3",
   "version": "3.12.10"
  }
 },
 "nbformat": 4,
 "nbformat_minor": 5
}
