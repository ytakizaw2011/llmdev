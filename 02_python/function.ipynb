{
 "cells": [
  {
   "cell_type": "markdown",
   "id": "0d1536ff",
   "metadata": {},
   "source": [
    "Lesson 2 Chapter 8 組み込み関数"
   ]
  },
  {
   "cell_type": "code",
   "execution_count": 1,
   "id": "a9e944a6",
   "metadata": {},
   "outputs": [
    {
     "name": "stdout",
     "output_type": "stream",
     "text": [
      "Hello, Python!\n",
      "123\n",
      "testtest\n"
     ]
    }
   ],
   "source": [
    "print(\"Hello, Python!\")  # 出力: Hello, Python!\n",
    "print(123)               # 出力: 123\n",
    "print(\"test\", end=\"\", flush=True) # 出力: test\n",
    "print(\"test\", flush=True) # 出力: 前の行に続けて test"
   ]
  },
  {
   "cell_type": "code",
   "execution_count": 2,
   "id": "6aeacfab",
   "metadata": {},
   "outputs": [
    {
     "name": "stdout",
     "output_type": "stream",
     "text": [
      "6\n",
      "4\n"
     ]
    }
   ],
   "source": [
    "print(len(\"Python\"))     # 出力: 6（文字数）\n",
    "print(len([1, 2, 3, 4])) # 出力: 4（リストの要素数）"
   ]
  },
  {
   "cell_type": "code",
   "execution_count": 3,
   "id": "26db7dae",
   "metadata": {},
   "outputs": [
    {
     "name": "stdout",
     "output_type": "stream",
     "text": [
      "<class 'int'>\n",
      "<class 'str'>\n",
      "<class 'list'>\n"
     ]
    }
   ],
   "source": [
    "print(type(123))        # 出力: <class 'int'>\n",
    "print(type(\"Python\"))   # 出力: <class 'str'>\n",
    "print(type([1, 2, 3]))  # 出力: <class 'list'>"
   ]
  },
  {
   "cell_type": "code",
   "execution_count": 4,
   "id": "c6b259ad",
   "metadata": {},
   "outputs": [
    {
     "name": "stdout",
     "output_type": "stream",
     "text": [
      "20\n",
      "5\n",
      "c\n",
      "1\n"
     ]
    }
   ],
   "source": [
    "print(max(5, 10, 20))         # 出力: 20\n",
    "print(min(5, 10, 20))         # 出力: 5\n",
    "print(max(\"a\", \"b\", \"c\"))     # 出力: 'c'\n",
    "print(min([1, 2, 3, 4, 5]))   # 出力: 1"
   ]
  },
  {
   "cell_type": "code",
   "execution_count": 5,
   "id": "63e91ff1",
   "metadata": {},
   "outputs": [
    {
     "name": "stdout",
     "output_type": "stream",
     "text": [
      "10\n",
      "60\n"
     ]
    }
   ],
   "source": [
    "print(sum([1, 2, 3, 4]))  # 出力: 10\n",
    "print(sum((10, 20, 30)))  # 出力: 60"
   ]
  },
  {
   "cell_type": "code",
   "execution_count": 6,
   "id": "947345b1",
   "metadata": {},
   "outputs": [
    {
     "name": "stdout",
     "output_type": "stream",
     "text": [
      "0\n",
      "1\n",
      "2\n",
      "3\n",
      "4\n",
      "[1, 3, 5, 7, 9]\n"
     ]
    }
   ],
   "source": [
    "for i in range(5):         # 出力: 0 1 2 3 4\n",
    "   print(i)\n",
    "print(list(range(1, 10, 2))) # 出力: [1, 3, 5, 7, 9]"
   ]
  },
  {
   "cell_type": "code",
   "execution_count": 7,
   "id": "491c2445",
   "metadata": {},
   "outputs": [
    {
     "name": "stdout",
     "output_type": "stream",
     "text": [
      "文字数: 14\n"
     ]
    }
   ],
   "source": [
    "name = input(\"名前を入力してください: \")\n",
    "print(\"文字数:\", len(name))"
   ]
  },
  {
   "cell_type": "code",
   "execution_count": 8,
   "id": "c391509a",
   "metadata": {},
   "outputs": [
    {
     "name": "stdout",
     "output_type": "stream",
     "text": [
      "最大値: 50\n",
      "合計: 150\n"
     ]
    }
   ],
   "source": [
    "numbers = [10, 20, 30, 40, 50]\n",
    "print(\"最大値:\", max(numbers))\n",
    "print(\"合計:\", sum(numbers))"
   ]
  },
  {
   "cell_type": "code",
   "execution_count": 9,
   "id": "c4e58d84",
   "metadata": {},
   "outputs": [
    {
     "name": "stdout",
     "output_type": "stream",
     "text": [
      "1\n",
      "3\n",
      "5\n",
      "7\n",
      "9\n"
     ]
    }
   ],
   "source": [
    "for i in range(1, 11, 2):\n",
    "    print(i)"
   ]
  }
 ],
 "metadata": {
  "kernelspec": {
   "display_name": ".venv",
   "language": "python",
   "name": "python3"
  },
  "language_info": {
   "codemirror_mode": {
    "name": "ipython",
    "version": 3
   },
   "file_extension": ".py",
   "mimetype": "text/x-python",
   "name": "python",
   "nbconvert_exporter": "python",
   "pygments_lexer": "ipython3",
   "version": "3.12.10"
  }
 },
 "nbformat": 4,
 "nbformat_minor": 5
}
