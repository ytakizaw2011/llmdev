{
 "cells": [
  {
   "cell_type": "code",
   "execution_count": null,
   "id": "c9d8bde9",
   "metadata": {},
   "outputs": [
    {
     "name": "stdout",
     "output_type": "stream",
     "text": [
      "送料は350円です\n",
      "送料込税込価格は2000円です\n"
     ]
    }
   ],
   "source": [
    "price = int(int(input(\"価格を入力してください\")) * 1.1)\n",
    "\n",
    "if price >= 2000:\n",
    "    print(\"送料は無料です\")\n",
    "else:\n",
    "    price += 350\n",
    "    print(\"送料は350円です\")\n",
    "\n",
    "print(f\"送料込税込価格は{price}円です\")\n"
   ]
  }
 ],
 "metadata": {
  "kernelspec": {
   "display_name": ".venv",
   "language": "python",
   "name": "python3"
  },
  "language_info": {
   "codemirror_mode": {
    "name": "ipython",
    "version": 3
   },
   "file_extension": ".py",
   "mimetype": "text/x-python",
   "name": "python",
   "nbconvert_exporter": "python",
   "pygments_lexer": "ipython3",
   "version": "3.12.10"
  }
 },
 "nbformat": 4,
 "nbformat_minor": 5
}
