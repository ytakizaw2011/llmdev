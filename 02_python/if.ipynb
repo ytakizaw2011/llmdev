{
 "cells": [
  {
   "cell_type": "markdown",
   "id": "981978cd",
   "metadata": {},
   "source": [
    "Lesson 2 Chapter 5.1 if文"
   ]
  },
  {
   "cell_type": "code",
   "execution_count": 3,
   "id": "a92838a7",
   "metadata": {},
   "outputs": [
    {
     "name": "stdout",
     "output_type": "stream",
     "text": [
      "合格です\n",
      "処理を終了します\n"
     ]
    }
   ],
   "source": [
    "score = int(input(\"点数を入力してください: \"))\n",
    "\n",
    "if score >= 60:\n",
    "    print(\"合格です\")\n",
    "\n",
    "print(\"処理を終了します\")"
   ]
  },
  {
   "cell_type": "markdown",
   "id": "0fd149ee",
   "metadata": {},
   "source": [
    "Lesson 2 Chapter 5.2 if - else文"
   ]
  },
  {
   "cell_type": "code",
   "execution_count": 5,
   "id": "c962afe0",
   "metadata": {},
   "outputs": [
    {
     "name": "stdout",
     "output_type": "stream",
     "text": [
      "不合格です\n",
      "もっとがんばりましょう\n",
      "処理を終了します\n"
     ]
    }
   ],
   "source": [
    "score = int(input(\"点数を入力してください: \"))\n",
    "\n",
    "if score >= 60:\n",
    "    print(\"合格です\")\n",
    "    print(\"おめでとうございます！\")\n",
    "else:\n",
    "    print(\"不合格です\")\n",
    "    print(\"もっとがんばりましょう\")\n",
    "\n",
    "print(\"処理を終了します\")"
   ]
  },
  {
   "cell_type": "markdown",
   "id": "e39e8740",
   "metadata": {},
   "source": [
    "Lesson 2 Chapter 5.3 elif文"
   ]
  },
  {
   "cell_type": "code",
   "execution_count": 9,
   "id": "74081493",
   "metadata": {},
   "outputs": [
    {
     "name": "stdout",
     "output_type": "stream",
     "text": [
      "優秀です\n",
      "大変よくできました！！\n",
      "処理を終了します\n"
     ]
    }
   ],
   "source": [
    "score = int(input(\"点数を入力してください: \"))\n",
    "\n",
    "if score >= 90:\n",
    "    print(\"優秀です\")\n",
    "    print(\"大変よくできました！！\")\n",
    "\n",
    "elif score >= 60:\n",
    "    print(\"合格です\")\n",
    "    print(\"おめでとうございます！\")\n",
    "\n",
    "else:\n",
    "    print(\"不合格です\")\n",
    "    print(\"もっとがんばりましょう\")\n",
    "\n",
    "print(\"処理を終了します\")"
   ]
  },
  {
   "cell_type": "code",
   "execution_count": 10,
   "id": "61d9b2e8",
   "metadata": {},
   "outputs": [
    {
     "name": "stdout",
     "output_type": "stream",
     "text": [
      "合格です\n",
      "おめでとうございます！\n",
      "処理を終了します\n"
     ]
    }
   ],
   "source": [
    "score = int(input(\"点数を入力してください: \"))\n",
    "\n",
    "if score >= 60:\n",
    "    print(\"合格です\")\n",
    "    print(\"おめでとうございます！\")\n",
    "\n",
    "elif score >= 90:\n",
    "    print(\"優秀です\")\n",
    "    print(\"大変よくできました！！\")\n",
    "\n",
    "else:\n",
    "    print(\"不合格です\")\n",
    "    print(\"もっとがんばりましょう\")\n",
    "\n",
    "print(\"処理を終了します\")"
   ]
  },
  {
   "cell_type": "markdown",
   "id": "be6bbd46",
   "metadata": {},
   "source": [
    "Lesson 2 Chapter 5.4 参考：match文"
   ]
  },
  {
   "cell_type": "code",
   "execution_count": 11,
   "id": "6a13d551",
   "metadata": {},
   "outputs": [
    {
     "name": "stdout",
     "output_type": "stream",
     "text": [
      "合格です！\n"
     ]
    }
   ],
   "source": [
    "score = 72  # 成績\n",
    "\n",
    "match score // 10:\n",
    "    case 10:\n",
    "        print(\"満点です！\")\n",
    "    case 9 | 8:\n",
    "        print(\"よくできました！\")\n",
    "    case 7 | 6:\n",
    "        print(\"合格です！\")\n",
    "    case _:\n",
    "        print(\"不合格です\")"
   ]
  },
  {
   "cell_type": "code",
   "execution_count": 12,
   "id": "3b298d78",
   "metadata": {},
   "outputs": [
    {
     "name": "stdout",
     "output_type": "stream",
     "text": [
      "合格です！\n"
     ]
    }
   ],
   "source": [
    "score = 72  # 成績\n",
    "\n",
    "match score:\n",
    "    case score if score == 100:\n",
    "        print(\"満点です！\")\n",
    "    case score if score >= 80:\n",
    "        print(\"よくできました！\")\n",
    "    case score if score >= 60:\n",
    "        print(\"合格です！\")\n",
    "    case _:\n",
    "        print(\"赤点です。。。\")"
   ]
  }
 ],
 "metadata": {
  "kernelspec": {
   "display_name": ".venv",
   "language": "python",
   "name": "python3"
  },
  "language_info": {
   "codemirror_mode": {
    "name": "ipython",
    "version": 3
   },
   "file_extension": ".py",
   "mimetype": "text/x-python",
   "name": "python",
   "nbconvert_exporter": "python",
   "pygments_lexer": "ipython3",
   "version": "3.12.10"
  }
 },
 "nbformat": 4,
 "nbformat_minor": 5
}
