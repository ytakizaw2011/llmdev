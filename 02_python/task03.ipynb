{
 "cells": [
  {
   "cell_type": "code",
   "execution_count": 9,
   "id": "de428d80",
   "metadata": {},
   "outputs": [
    {
     "name": "stdout",
     "output_type": "stream",
     "text": [
      "10年後の金額：1628.89\n"
     ]
    }
   ],
   "source": [
    "gankin = int(input(\"元金を入力してください：\"))\n",
    "nenri = int(input(\"年利を入力してください：\"))\n",
    "\n",
    "for i in range(1, 11):\n",
    "    gankin = gankin * (1 + (nenri / 100))\n",
    "\n",
    "print(f\"{i}年後の金額：{gankin:.2f}\")"
   ]
  }
 ],
 "metadata": {
  "kernelspec": {
   "display_name": ".venv",
   "language": "python",
   "name": "python3"
  },
  "language_info": {
   "codemirror_mode": {
    "name": "ipython",
    "version": 3
   },
   "file_extension": ".py",
   "mimetype": "text/x-python",
   "name": "python",
   "nbconvert_exporter": "python",
   "pygments_lexer": "ipython3",
   "version": "3.12.10"
  }
 },
 "nbformat": 4,
 "nbformat_minor": 5
}
