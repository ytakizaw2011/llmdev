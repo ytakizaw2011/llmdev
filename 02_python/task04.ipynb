{
 "cells": [
  {
   "cell_type": "code",
   "execution_count": 9,
   "id": "88100b74",
   "metadata": {},
   "outputs": [
    {
     "name": "stdout",
     "output_type": "stream",
     "text": [
      "エラー：数値を入力してください\n"
     ]
    }
   ],
   "source": [
    "try:\n",
    "    a = int(input(\"割られる数を入力してください：\"))\n",
    "    b = int(input(\"割る数を入力してください：\"))\n",
    "\n",
    "    if b == 0:\n",
    "        raise ZeroDivisionError(\"エラー：0で割ることはできません\")\n",
    "\n",
    "    res = a / b\n",
    "\n",
    "except ZeroDivisionError as e:\n",
    "    print(e)\n",
    "except ValueError:\n",
    "    print(\"エラー：数値を入力してください\")\n",
    "else:\n",
    "    print(f\"計算結果：{res}\")"
   ]
  }
 ],
 "metadata": {
  "kernelspec": {
   "display_name": ".venv",
   "language": "python",
   "name": "python3"
  },
  "language_info": {
   "codemirror_mode": {
    "name": "ipython",
    "version": 3
   },
   "file_extension": ".py",
   "mimetype": "text/x-python",
   "name": "python",
   "nbconvert_exporter": "python",
   "pygments_lexer": "ipython3",
   "version": "3.12.10"
  }
 },
 "nbformat": 4,
 "nbformat_minor": 5
}
