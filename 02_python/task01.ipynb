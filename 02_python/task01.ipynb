{
 "cells": [
  {
   "cell_type": "code",
   "execution_count": 4,
   "id": "9a561c52",
   "metadata": {},
   "outputs": [
    {
     "name": "stdout",
     "output_type": "stream",
     "text": [
      "はじめまして、滝沢雄貴 と申します。\n",
      "年齢は 39 歳です。来年は 40 歳になります。\n",
      "よろしくお願いします。\n"
     ]
    }
   ],
   "source": [
    "name = \"滝沢雄貴\"\n",
    "age = 39\n",
    "\n",
    "print(f\"はじめまして、{name} と申します。\")\n",
    "print(f\"年齢は {age} 歳です。来年は {age + 1} 歳になります。\")\n",
    "print(\"よろしくお願いします。\")"
   ]
  }
 ],
 "metadata": {
  "kernelspec": {
   "display_name": ".venv",
   "language": "python",
   "name": "python3"
  },
  "language_info": {
   "codemirror_mode": {
    "name": "ipython",
    "version": 3
   },
   "file_extension": ".py",
   "mimetype": "text/x-python",
   "name": "python",
   "nbconvert_exporter": "python",
   "pygments_lexer": "ipython3",
   "version": "3.12.10"
  }
 },
 "nbformat": 4,
 "nbformat_minor": 5
}
