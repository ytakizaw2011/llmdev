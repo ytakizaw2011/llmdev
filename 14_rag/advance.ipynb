{
 "cells": [
  {
   "cell_type": "markdown",
   "id": "a20be18b",
   "metadata": {},
   "source": [
    "#### Lesson 14 Chapter 4 PDFの読込とカスタマイズ"
   ]
  },
  {
   "cell_type": "markdown",
   "id": "eae42e7d",
   "metadata": {},
   "source": [
    "Lesson 14 Chapter 4.1 準備"
   ]
  },
  {
   "cell_type": "code",
   "execution_count": 11,
   "id": "11ab162d",
   "metadata": {},
   "outputs": [],
   "source": [
    "# 必要なモジュールをインポート\n",
    "import os\n",
    "from dotenv import load_dotenv\n",
    "from llama_index.core import VectorStoreIndex, SimpleDirectoryReader\n",
    "from llama_index.llms.openai import OpenAI\n",
    "\n",
    "# 環境変数の取得\n",
    "load_dotenv(\"../.env\")\n",
    "os.environ['OPENAI_API_KEY']  = os.environ['API_KEY']\n",
    "\n",
    "# モデル名\n",
    "MODEL_NAME = \"gpt-4o-mini\""
   ]
  },
  {
   "cell_type": "markdown",
   "id": "7bb9b4f9",
   "metadata": {},
   "source": [
    "Lesson 14 Chapter 4.2 インデックスの構築"
   ]
  },
  {
   "cell_type": "code",
   "execution_count": 12,
   "id": "229aff93",
   "metadata": {},
   "outputs": [],
   "source": [
    "# PDFドキュメントの読込\n",
    "documents = SimpleDirectoryReader('./data/pdf').load_data()"
   ]
  },
  {
   "cell_type": "code",
   "execution_count": 13,
   "id": "d3a4a435",
   "metadata": {},
   "outputs": [],
   "source": [
    "from llama_index.core.text_splitter import SentenceSplitter\n",
    "from llama_index.core import Settings\n",
    "import tiktoken\n",
    "\n",
    "# NodeParserの作成\n",
    "node_parser = SentenceSplitter(\n",
    "    separator=\"。\",\n",
    "    chunk_size=256,\n",
    "    chunk_overlap=16,\n",
    "    tokenizer=tiktoken.encoding_for_model(MODEL_NAME).encode)\n",
    "\n",
    "# 言語モデルの指定\n",
    "llm = OpenAI(model=MODEL_NAME, temperature=0.3)\n",
    "\n",
    "# 設定に反映\n",
    "Settings.llm = llm\n",
    "Settings.node_parser = node_parser\n",
    "\n",
    "# Indexの構築\n",
    "index = VectorStoreIndex.from_documents(documents)"
   ]
  },
  {
   "cell_type": "markdown",
   "id": "8d363fa0",
   "metadata": {},
   "source": [
    "Lesson 14 Chapter 4.3 参考：インデックスの保存と読込"
   ]
  },
  {
   "cell_type": "code",
   "execution_count": 4,
   "id": "c38ef86b",
   "metadata": {},
   "outputs": [],
   "source": [
    "# ストレージに保存\n",
    "index.storage_context.persist(\"./storage01\")"
   ]
  },
  {
   "cell_type": "code",
   "execution_count": 5,
   "id": "5ba37c5a",
   "metadata": {},
   "outputs": [],
   "source": [
    "from llama_index.core import StorageContext, load_index_from_storage\n",
    "\n",
    "# ストレージコンテキストの作成\n",
    "storage_context = StorageContext.from_defaults(persist_dir=\"./storage01\")\n",
    "# Indexのロード\n",
    "index = load_index_from_storage(storage_context)"
   ]
  },
  {
   "cell_type": "markdown",
   "id": "9a575c4a",
   "metadata": {},
   "source": [
    "Lesson 14 Chapter 4.4 プロンプトテンプレートの日本語化"
   ]
  },
  {
   "cell_type": "code",
   "execution_count": 14,
   "id": "a3a35b1c",
   "metadata": {},
   "outputs": [],
   "source": [
    "sys_prompt_str = \"\"\"\n",
    "事前知識ではなく、常に提供されたコンテキスト情報を使用して質問に回答してください。\n",
    "回答内でコンテキストを直接参照しないでください。\n",
    "「コンテキストに基づいて」や「コンテキスト情報は」、またはそれに類するような記述は避けてください。\n",
    "\"\"\"\n",
    "\n",
    "qa_prompt_str = \"\"\"\n",
    "コンテキスト情報は以下の通りです。\n",
    "---------------------\n",
    "{context_str}\n",
    "---------------------\n",
    "事前知識ではなくコンテキスト情報を使用して、質問に回答してください。\n",
    "質問: {query_str}\n",
    "回答：\"\"\"\n",
    "\n",
    "refine_prompt_str = \"\"\"\n",
    "元の回答を (必要な場合のみ) 以下のコンテキストで改良する機会があります。\n",
    "-----------\n",
    "{context_msg}\n",
    "-----------\n",
    "新しいコンテキストが与えられた場合、元の回答を改良して、質問 {query_str} に適切に回答します。\n",
    "コンテキストが役に立たない場合は、元の回答を再度出力します。\n",
    "元の回答: {existing_answer}\"\"\""
   ]
  },
  {
   "cell_type": "code",
   "execution_count": 15,
   "id": "64ca8cf6",
   "metadata": {},
   "outputs": [],
   "source": [
    "from llama_index.core.llms import ChatMessage, MessageRole\n",
    "from llama_index.core import ChatPromptTemplate\n",
    "\n",
    "# テキストQAテンプレートの作成\n",
    "chat_text_qa_msgs = [\n",
    "    ChatMessage(\n",
    "        role=MessageRole.SYSTEM,\n",
    "        content=sys_prompt_str),\n",
    "    ChatMessage(\n",
    "        role=MessageRole.USER,\n",
    "        content=qa_prompt_str),\n",
    "]\n",
    "text_qa_template = ChatPromptTemplate(chat_text_qa_msgs)\n",
    "\n",
    "# リファインテンプレートの作成\n",
    "chat_refine_msgs = [\n",
    "    ChatMessage(\n",
    "        role=MessageRole.SYSTEM,\n",
    "        content=sys_prompt_str),\n",
    "    ChatMessage(\n",
    "        role=MessageRole.USER,\n",
    "        content=refine_prompt_str),\n",
    "]\n",
    "refine_template = ChatPromptTemplate(chat_refine_msgs)"
   ]
  },
  {
   "cell_type": "markdown",
   "id": "439b6825",
   "metadata": {},
   "source": [
    "Lesson 14 Chapter 4.5 チャットエンジンの作成"
   ]
  },
  {
   "cell_type": "code",
   "execution_count": 16,
   "id": "65e16f39",
   "metadata": {},
   "outputs": [],
   "source": [
    "# Chat Engineの作成\n",
    "chat_engine = index.as_chat_engine(\n",
    "    chat_mode=\"openai\",\n",
    "    llm=llm,\n",
    "    similarity_top_k=3,\n",
    "    text_qa_template=text_qa_template,\n",
    "    refine_template=refine_template,\n",
    ")"
   ]
  },
  {
   "cell_type": "markdown",
   "id": "8af9e5ca",
   "metadata": {},
   "source": [
    "Lesson 14 Chapter 4.6 チャットエンジンに問い合わせ：1回目"
   ]
  },
  {
   "cell_type": "code",
   "execution_count": 17,
   "id": "6d1b3677",
   "metadata": {},
   "outputs": [
    {
     "name": "stdout",
     "output_type": "stream",
     "text": [
      "公共交通機関の利用における交通費の上限は、月額3万円まで支給されます。この金額は最安経路に基づいて支給されるため、実際の経路に応じた金額が適用されます。"
     ]
    }
   ],
   "source": [
    "# 質問：1回目\n",
    "response = chat_engine.stream_chat(\"公共交通機関の交通費の上限は？\")\n",
    "\n",
    "for token in response.response_gen:\n",
    "    print(token, end=\"\")"
   ]
  },
  {
   "cell_type": "code",
   "execution_count": 18,
   "id": "9bec2e89",
   "metadata": {},
   "outputs": [
    {
     "name": "stdout",
     "output_type": "stream",
     "text": [
      "ファイル名： 02賃金規則.pdf\n",
      "関連度スコア: 0.8629843631044365\n",
      "テキスト：\n",
      "各種⼿当\n",
      "みらいテクノロジー株式会社では、基本給に加えて、以下の⼿当が⽀給されます。\n",
      "1. 通勤⼿当\n",
      "通勤にかかる交通費は、実際の経路に基づき⽀給されます。\n",
      "公共交通機関の利⽤の場合は、最安経路をもとに⽉額上限 3 万円まで⽀給します。\n",
      "⾃家⽤⾞での通勤が必要な場合は、事前に⼈事部へ申請してください。駐⾞場の使\n",
      "⽤料やガソリン代の⼀部が⽀給される場合もあります。\n",
      "2.\n",
      "--------------------------------------------------\n",
      "ファイル名： 02賃金規則.pdf\n",
      "関連度スコア: 0.812959995380696\n",
      "テキスト：\n",
      "住宅⼿当\n",
      "会社から通勤に 1 時間以上かかる場合、住宅⼿当として⽉額 1 万円が⽀給されます。\n",
      "住宅⼿当を受けるためには、賃貸契約書など、居住地を証明できる書類の提出が必\n",
      "要です。\n",
      "3. 家族⼿当\n",
      "扶養家族がいる従業員には、家族⼿当が⽀給されます。\n",
      "配偶者には⽉額 5,000 円、⼦供⼀⼈につき⽉額 3,000 円が⽀給されます（上限︓⼦供 3\n",
      "⼈まで）。\n",
      "4.\n",
      "--------------------------------------------------\n",
      "ファイル名： 02賃金規則.pdf\n",
      "関連度スコア: 0.7913298555311836\n",
      "テキスト：\n",
      "みらいテクノロジー株式会社  賃⾦規則\n",
      "みらいテクノロジー株式会社では、従業員の皆さんが安⼼して働けるよう、賃⾦（給与）に関す\n",
      "るルールを明確に定めています。この賃⾦規則は、給与の構成や⽀払い⽅法、昇給や賞与の仕組\n",
      "みを理解し、働きがいを持って業務に取り組んでもらうために作られています。\n",
      "1. 基本給\n",
      "1.\n",
      "--------------------------------------------------\n"
     ]
    }
   ],
   "source": [
    "# 引用元を表示\n",
    "for source in response.sources:\n",
    "    for source_node in source.raw_output.source_nodes:\n",
    "        print(\"ファイル名：\", source_node.metadata[\"file_name\"])\n",
    "        print(\"関連度スコア:\", source_node.score)\n",
    "        print(\"テキスト：\")\n",
    "        print(source_node.node.text)\n",
    "        print(\"-\" * 50)  # 区切り線"
   ]
  },
  {
   "cell_type": "markdown",
   "id": "bfba5028",
   "metadata": {},
   "source": [
    "Lesson 14 Chapter 4.7 チャットエンジンに問い合わせ：2回目"
   ]
  },
  {
   "cell_type": "code",
   "execution_count": 19,
   "id": "77be0dd7",
   "metadata": {},
   "outputs": [
    {
     "name": "stdout",
     "output_type": "stream",
     "text": [
      "交通費以外の手当には以下のものがあります。\n",
      "\n",
      "1. **住宅手当**: 通勤に1時間以上かかる場合、月額1万円が支給されます。受給には居住地を証明できる書類の提出が必要です。\n",
      "\n",
      "2. **家族手当**: 扶養家族がいる従業員には、配偶者に月額5,000円、子供1人につき月額3,000円が支給されます（上限は子供3人まで）。\n",
      "\n",
      "3. **時間外手当（残業代）**: 所定の勤務時間を超えて働いた場合に支給され、通常の時間外労働は1.25倍、深夜時間帯の残業は1.5倍となります。\n",
      "\n",
      "4. **休日出勤手当**: 休日に出勤した場合に支給されます。"
     ]
    }
   ],
   "source": [
    "# 質問：2回目\n",
    "response = chat_engine.stream_chat(\"交通費以外の手当にはどのようなものがありますか？\")\n",
    "\n",
    "for token in response.response_gen:\n",
    "    print(token, end=\"\")"
   ]
  },
  {
   "cell_type": "code",
   "execution_count": 20,
   "id": "430bad90",
   "metadata": {},
   "outputs": [
    {
     "name": "stdout",
     "output_type": "stream",
     "text": [
      "ファイル名： 02賃金規則.pdf\n",
      "関連度スコア: 0.8551150685911507\n",
      "テキスト：\n",
      "各種⼿当\n",
      "みらいテクノロジー株式会社では、基本給に加えて、以下の⼿当が⽀給されます。\n",
      "1. 通勤⼿当\n",
      "通勤にかかる交通費は、実際の経路に基づき⽀給されます。\n",
      "公共交通機関の利⽤の場合は、最安経路をもとに⽉額上限 3 万円まで⽀給します。\n",
      "⾃家⽤⾞での通勤が必要な場合は、事前に⼈事部へ申請してください。駐⾞場の使\n",
      "⽤料やガソリン代の⼀部が⽀給される場合もあります。\n",
      "2.\n",
      "--------------------------------------------------\n",
      "ファイル名： 02賃金規則.pdf\n",
      "関連度スコア: 0.8163851661771221\n",
      "テキスト：\n",
      "住宅⼿当\n",
      "会社から通勤に 1 時間以上かかる場合、住宅⼿当として⽉額 1 万円が⽀給されます。\n",
      "住宅⼿当を受けるためには、賃貸契約書など、居住地を証明できる書類の提出が必\n",
      "要です。\n",
      "3. 家族⼿当\n",
      "扶養家族がいる従業員には、家族⼿当が⽀給されます。\n",
      "配偶者には⽉額 5,000 円、⼦供⼀⼈につき⽉額 3,000 円が⽀給されます（上限︓⼦供 3\n",
      "⼈まで）。\n",
      "4.\n",
      "--------------------------------------------------\n",
      "ファイル名： 02賃金規則.pdf\n",
      "関連度スコア: 0.8072287704484808\n",
      "テキスト：\n",
      "時間外⼿当（残業代）\n",
      "所定の勤務時間を超えて働いた場合は、残業⼿当が⽀給されます。\n",
      "残業⼿当の割増率は、法令に基づき計算されます。通常の時間外労働は 1.25 倍、深\n",
      "夜時間帯（午後 10 時以降）の残業は 1.5 倍となります。\n",
      "5. 休⽇出勤⼿当\n",
      "--------------------------------------------------\n"
     ]
    }
   ],
   "source": [
    "# 引用元を表示\n",
    "for source in response.sources:\n",
    "    for source_node in source.raw_output.source_nodes:\n",
    "        print(\"ファイル名：\", source_node.metadata[\"file_name\"])\n",
    "        print(\"関連度スコア:\", source_node.score)\n",
    "        print(\"テキスト：\")\n",
    "        print(source_node.node.text)\n",
    "        print(\"-\" * 50)  # 区切り線"
   ]
  }
 ],
 "metadata": {
  "kernelspec": {
   "display_name": ".venv",
   "language": "python",
   "name": "python3"
  },
  "language_info": {
   "codemirror_mode": {
    "name": "ipython",
    "version": 3
   },
   "file_extension": ".py",
   "mimetype": "text/x-python",
   "name": "python",
   "nbconvert_exporter": "python",
   "pygments_lexer": "ipython3",
   "version": "3.12.10"
  }
 },
 "nbformat": 4,
 "nbformat_minor": 5
}
