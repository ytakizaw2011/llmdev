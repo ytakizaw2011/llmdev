{
 "cells": [
  {
   "cell_type": "markdown",
   "id": "5c4071f2",
   "metadata": {},
   "source": [
    "Lesson 11 Chapter 5.1 APIリクエストの準備"
   ]
  },
  {
   "cell_type": "code",
   "execution_count": 3,
   "id": "22afa342",
   "metadata": {},
   "outputs": [],
   "source": [
    "# 必要なモジュールをインポート\n",
    "import os\n",
    "import json\n",
    "from dotenv import load_dotenv\n",
    "from openai import OpenAI\n",
    "from openai.types.chat import ChatCompletionToolParam\n",
    "from tavily import TavilyClient\n",
    "\n",
    "# 環境変数の取得\n",
    "load_dotenv(\"../.env\")\n",
    "\n",
    "# OpenAI APIクライアントを生成\n",
    "client = OpenAI(api_key=os.environ['API_KEY'])\n",
    "\n",
    "# tavily検索用APIキーの取得\n",
    "TAVILY_API_KEY = os.environ['TAVILY_API_KEY']\n",
    "\n",
    "# モデル名\n",
    "MODEL_NAME = \"gpt-4o-mini\""
   ]
  },
  {
   "cell_type": "markdown",
   "id": "66af05e0",
   "metadata": {},
   "source": [
    "Lesson 11 Chapter 5.2 関数の定義"
   ]
  },
  {
   "cell_type": "code",
   "execution_count": 4,
   "id": "fa4b3000",
   "metadata": {},
   "outputs": [],
   "source": [
    "# 検索結果を返す関数の作成\n",
    "def get_search_result(question):\n",
    "    client = TavilyClient(api_key=TAVILY_API_KEY)\n",
    "    response = client.search(question)\n",
    "    return json.dumps({\"result\": response[\"results\"]})\n"
   ]
  },
  {
   "cell_type": "code",
   "execution_count": 5,
   "id": "7f564170",
   "metadata": {},
   "outputs": [
    {
     "data": {
      "text/plain": [
       "{'result': [{'url': 'https://ekitan.com/event/station-2590',\n",
       "   'title': '東京駅周辺のイベント - 駅探',\n",
       "   'content': '1. 駅探 2. 東京駅の時刻表・乗り換え 3. # 東京駅周辺のイベント ## 東京駅のイベント一覧 **1〜10件**／80件（新着順） * #### 親子の安心を高める子育て講座～心理学を活かして～ 子どもとのアタッチメントを学ぶ 期間2025年10月20日(月) 会場甲南大学ネットワークキャンパス東京 + 東京都 千代田区 + 東京駅／大手町駅(東京)／三越前駅 1. 無料 2. 屋内 * #### 京都アカデミアフォーラムin丸の内共催「京都新聞講座in東京『京都あれこれ』」 新たな「鬼平犯科帳」ができるまで 期間2025年9月8日(月) 会場京都大学東京オフィス\\u3000会議室AB + 東京都 千代田区 + 東京駅／二重橋前駅／大手町駅(東京)駅 1. 無料 2. 屋内 * #### 丸の内ストリートマーケット by Creema 人気のクラフトイベントが6年ぶりに復活！ 期間2025年8月29日(金)～8月30日(土) 会場行幸地下通路 + 東京都 千代田区 + 二重橋前駅／東京駅／大手町駅(東京)駅 期間2025年8月1日(金)～8月24日(日) + 東京駅／二重橋前駅／大手町駅(東京)駅 期間2025年11月16日(日) + 大手町駅(東京)／竹橋駅／東京駅 期間2025年11月1日(土) + 二重橋前駅／東京駅／大手町駅(東京)駅 期間2025年10月4日(土)～10月5日(日) + 二重橋前駅／東京駅／大手町駅(東京)駅 期間2025年8月13日(水) + 東京駅／日本橋駅(東京)／大手町駅(東京)駅 期間2025年8月28日(木) + 東京駅／二重橋前駅／大手町駅(東京)駅 期間2025年8月7日(木) + 東京駅／二重橋前駅／大手町駅(東京)駅 * 京橋(東京) * 大手町(東京) * 日本橋(東京) * 東京メトロ日比谷線 八丁堀駅 徒歩2分 1K / 26.78m2 / 5階 東京メトロ日比谷線 八丁堀駅 徒歩3分 1K / 33.58m2 / 4階 / 築10年 東京メトロ有楽町線 銀座一丁目駅 徒歩2分 ワンルーム / 27.8m2 / 7階 / 築21年 * 東京メトロ日比谷線 八丁堀駅 徒歩2分 2LDK / 53.58m2 / 10階 / 築7年',\n",
       "   'score': 0.8571119,\n",
       "   'raw_content': None},\n",
       "  {'url': 'https://www.walkerplus.com/event_list/ar0313/sc309880d/',\n",
       "   'title': '東京駅(東京都)周辺のイベント - ウォーカープラス',\n",
       "   'content': '今日 明日 今週末 * エリアを選択 * 目的から探す エリア :   * 東京都 * 千代田区 * 中央区 * 港区 * 新宿区 * 文京区 * 台東区 * 墨田区 * 江東区 * 品川区 * 目黒区 * 大田区 * 世田谷区 * 渋谷区 2025年5月29日(木)～9月7日(日) * 日本橋高島屋S.C. BBQ BEER GARDEN(バーベキュービアガーデン) 2025年4月16日(水)～11月5日(水) 日本橋駅(東京都), 京橋駅(東京都), 茅場町駅(東京都), 宝町駅(東京都), 東京駅(東京都) 日本橋高島屋S.C.本館 * 丸ノ内ホテル アーバンビアテラス2025 2025年6月6日(金)～9月30日(火) 東京都 東京駅(東京都), 大手町駅(東京都), 二重橋前駅(東京都), 日本橋駅(東京都), 三越前駅(東京都) 丸ノ内ホテル 2025年6月1日(日)～8月31日(日) 東京都 東京駅(東京都), 二重橋前駅(東京都), 京橋駅(東京都), 大手町駅(東京都), 有楽町駅(東京都) 2025年8月8日(金)～2026年3月31日(火) 東京都 日比谷駅(東京都), 有楽町駅(東京都), 東京駅(東京都), 京橋駅(東京都) 2025年8月5日(火)～31日(日) 東京都 東京駅(東京都), 二重橋前駅(東京都), 有楽町駅(東京都), 京橋駅(東京都), 銀座一丁目駅(東京都) * BEER TERRACE in（marunouchi）HOUSE 2025 2025年6月20日(金)～9月21日(日) 東京都 東京駅(東京都), 二重橋前駅(東京都), 大手町駅(東京都), 有楽町駅(東京都), 京橋駅(東京都) 2025年7月5日(土)～8月31日(日) 東京都 東京駅(東京都), 二重橋前駅(東京都), 大手町駅(東京都), 日本橋駅(東京都), 京橋駅(東京都) 東京都 二重橋前駅(東京都), 有楽町駅(東京都), 東京駅(東京都), 日比谷駅(東京都) 2025年6月24日(火)～9月21日(日) 東京都 京橋駅(東京都), 宝町駅(東京都), 日本橋駅(東京都), 東京駅(東京都), 銀座一丁目駅(東京都) :   * 東京都 * ワンコとニャンコ Walker * からだにplus Walker',\n",
       "   'score': 0.7625837,\n",
       "   'raw_content': None},\n",
       "  {'url': 'https://iko-yo.net/events?prefecture_ids%5B%5D=13&tags%5B%5D=%E6%9D%B1%E4%BA%AC%E9%A7%85&term=1',\n",
       "   'title': '東京都 東京駅の 子ども・親子おでかけ 今日のイベント情報 - いこーよ',\n",
       "   'content': '+ 0歳 + 1歳 + 2歳 + 3歳 + 4歳 + 5歳 + 6歳 + 7歳 + 8歳 + 9歳 # 東京都（東京駅）のイベント [ 今日 ]2025年8月26日(火) 要予約 2025年10月5日(日) 要予約 2025年8月1日(金)～12月1日(月) 要予約 東京都中央区八重洲1-5-9八重洲加藤ビルディング 3F（東京VIPラウンジ内） 要予約 東京都中央区八重洲1-5-9八重洲加藤ビルディング 3F（東京VIPラウンジ内） 要予約 東京都中央区八重洲1-5-9八重洲加藤ビルディング3階（東京ＶＩＰラウンジ内） 要予約 2025年10月5日(日) 東京都渋谷区 / 撮影イベント 要予約 完全無料 2025年8月26日(火)、8月29日(金)、8月31日(日) 東京都三鷹市 / 撮影イベント 要予約 完全無料 2025年9月21日(日) | 日 | 月 | 火 | 水 | 木 | 金 | 土 | | 子どもの年齢 | * 0歳 * 1歳 * 2歳 * 3歳 * 4歳 * 5歳 * 6歳 * 7歳 * 8歳 * 9歳 * 10歳 * 11歳 * 12歳 * 乳児 * 幼児 * 小学生 * 中学生・高校生 * 大人 | | 事前予約・応募 | * 要予約 * 予約不要 | | 料金 | * 完全無料 |',\n",
       "   'score': 0.7593865,\n",
       "   'raw_content': None},\n",
       "  {'url': 'https://www.jalan.net/event/130000/136200/',\n",
       "   'title': '銀座・日本橋・東京駅周辺のイベントランキング - じゃらんnet',\n",
       "   'content': '国内の観光スポット・イベント情報はじゃらんnet\\u3000～日本最大級の宿・ホテル予約サイト～ * サイトのご利用方法 * ヘルプ/問い合わせ * ログイン * 会員登録 * 予約照会・変更・キャンセル * マイページ * 旅行ガイド * 観光ガイド * ご当地グルメガイド * イベントガイド * お土産ガイド * みんなの旅行記 * エリア概要 * 観光スポット * ご当地グルメ * 宿・ホテル * イベント * お土産 エリア :   全国 :   東京 * 北海道 * 青森 * 岩手 * 宮城 * 秋田 * 山形 * 福島 * 東京 * 神奈川 * 埼玉 * 千葉 * 茨城 * 栃木 * 群馬 * 山梨 * 長野 * 新潟 * 富山 * 石川 * 福井 東海 * 愛知 * 静岡 * 岐阜 * 三重 関西 :   東京都\\u3000東京国際フォーラム\\u30001F地上広場 2マーチエキュート神田万世橋\\u3000イルミネーション :   東京都\\u3000マーチエキュート神田万世橋 久しぶりに来ました。夏にここの「へぎそば」はぴったしです。喉が鳴りました。今回は1.5人前。...by ソフトな乗り鉄タカ 62歳さん * ### 塩専門\\u3000ひるがお\\u3000東京駅店 この界隈に来ると、決まって「電光石火」の広島お好み焼きを食べていましたが、今日はたまには新...by ソフトな乗り鉄たか 59歳さん * ### 電光石火\\u3000東京駅店 調理場にはただ一人。お客さんはかなりたくさん入っているのに、世の中これ程人手不足なのかと痛...by ソフトな乗り鉄タカ 62歳さん',\n",
       "   'score': 0.7440808,\n",
       "   'raw_content': None},\n",
       "  {'url': 'https://www.enjoytokyo.jp/event/list/sta200101/its04/',\n",
       "   'title': '今日行ける！東京駅周辺のおすすめイベント',\n",
       "   'content': '英国展 日本橋三越本店 2025 【PART1】2025/08/19(火)～08/25(月) 【PART2】2025/08/27(水)～09/01(月) 2025/08/22(金) ～ 09/04(木) 伊勢丹 立川店：3/26〜4/15 伊勢丹 浦和店：6/25〜7/8 浦和伊勢丹 国際フォーラム：7/14〜7/31 日本橋三越本店：8/6〜8/19 文京グリーンコート：9/1〜9/30 丸広百貨店 川越店：10/3〜10/21 日本橋三越本店 2025/05/29(木) ～ 09/07(日) 2025/08/21(木) ～ 09/07(日) ～ 2025/08/31(日) ラブライブ！シリーズ Anniversary Parade in 東京駅一番街 ～ 2025/08/31(日) + 東京駅一番街 ～ 2025/08/31(日) 2025/08/08(金) ～ 09/15(月・祝) 2025/06/20(金) ～ 09/21(日) 2025/07/01(火) ～ 09/30(火) 2025/08/27(水) ～ 09/02(火) 2025/06/24(火) ～ 09/21(日) 休館日：月曜日（7月21日、8月11日、9月15日は開館）、7月22日、8月12日、9月16日 ～ 2025/08/31(日) ～ 2025/08/28(木) 2025/07/04(金) ～ 09/30(火) ロバート 秋山竜次 presents 10周年 クリエイターズ・ファイル 胸やけ大博覧会 in 池袋 2025/08/08(金) ～ 09/01(月) あの伝説の展覧会が7年ぶりに帰ってくる！ロバート 秋山竜次 presents「10周年 クリエイターズ・ファイル 胸やけ大博覧会」 in 池袋\\u3000開催決定！ 2025/09/16(火) ～ 11/10(月) 2025/10/18(土) ～ 10/19(日) 2025/09/01(月) ～ 09/30(火) 2025/08/29(金) ～ 08/31(日) 2025/07/18(金) ～ 09/23(火・祝) 2025/08/28(木) ～ 08/31(日) 2025/10/24(金) ～ 11/03(月・祝) 2025/07/29(火) ～ 11/30(日) ※休館日：月曜日（※月曜日が祝日の場合、翌営業日が休館） cafe and dining nurikabe Cafe&Grill SIZZLE GAZZLE Shibuya 東京都・渋谷駅 ／ 夜アフタヌーンティー nurikabe cafe SSS 渋谷店 夏のアフタヌーンティーセット+カフェフリー(6/5～9/3)',\n",
       "   'score': 0.7393665,\n",
       "   'raw_content': None}]}"
      ]
     },
     "execution_count": 5,
     "metadata": {},
     "output_type": "execute_result"
    }
   ],
   "source": [
    "# テスト用コード\n",
    "ret = get_search_result(\"東京駅のイベントを教えて\")\n",
    "json.loads(ret)"
   ]
  },
  {
   "cell_type": "markdown",
   "id": "7cbed518",
   "metadata": {},
   "source": [
    "Lesson 11 Chapter 5.3 ツールの定義"
   ]
  },
  {
   "cell_type": "code",
   "execution_count": 6,
   "id": "3288952b",
   "metadata": {},
   "outputs": [],
   "source": [
    "# ツール定義\n",
    "def define_tools():\n",
    "    print(\"------define_tools(ツール定義)------\")\n",
    "    return [\n",
    "        ChatCompletionToolParam({\n",
    "            \"type\": \"function\",\n",
    "            \"function\": {\n",
    "                \"name\": \"get_search_result\",\n",
    "                \"description\": \"最近一ヵ月のイベント開催予定などネット検索が必要な場合に、質問文の検索結果を取得する\",\n",
    "                \"parameters\": {\n",
    "                    \"type\": \"object\",\n",
    "                    \"properties\": {\n",
    "                        \"question\": {\"type\": \"string\", \"description\": \"質問文\"},\n",
    "                    },\n",
    "                    \"required\": [\"question\"],\n",
    "                },\n",
    "            },\n",
    "        })\n",
    "    ]"
   ]
  },
  {
   "cell_type": "markdown",
   "id": "f357804a",
   "metadata": {},
   "source": [
    "Lesson 11 Chapter 5.4 言語モデルへの質問を行う関数"
   ]
  },
  {
   "cell_type": "code",
   "execution_count": 7,
   "id": "86d1d8dd",
   "metadata": {},
   "outputs": [],
   "source": [
    "# 言語モデルへの質問を行う関数\n",
    "def ask_question(question, tools):\n",
    "    response = client.chat.completions.create(\n",
    "        model=MODEL_NAME,\n",
    "        messages=[{\"role\": \"user\", \"content\": question}],\n",
    "        tools=tools,\n",
    "        tool_choice=\"auto\",\n",
    "    )\n",
    "    return response"
   ]
  },
  {
   "cell_type": "markdown",
   "id": "2e33b68f",
   "metadata": {},
   "source": [
    "Lesson 11 Chapter 5.5 ツール呼び出しが必要な場合の処理を行う関数"
   ]
  },
  {
   "cell_type": "code",
   "execution_count": 8,
   "id": "c0da5384",
   "metadata": {},
   "outputs": [],
   "source": [
    "# ツール呼び出しが必要な場合の処理を行う関数\n",
    "def handle_tool_call(response, question):\n",
    "    # 関数の実行と結果取得\n",
    "    tool = response.choices[0].message.tool_calls[0]\n",
    "    function_name = tool.function.name\n",
    "    arguments = json.loads(tool.function.arguments)\n",
    "    function_response = globals()[function_name](**arguments)\n",
    "\n",
    "    # 関数の実行結果をmessagesに加えて再度言語モデルを呼出\n",
    "    response_after_tool_call = client.chat.completions.create(\n",
    "        model=MODEL_NAME,\n",
    "        messages=[\n",
    "            {\"role\": \"user\", \"content\": question},\n",
    "            response.choices[0].message,\n",
    "            {\n",
    "                \"tool_call_id\": tool.id,\n",
    "                \"role\": \"tool\",\n",
    "                \"content\": function_response,\n",
    "            },\n",
    "        ],\n",
    "    )\n",
    "    return response_after_tool_call"
   ]
  },
  {
   "cell_type": "markdown",
   "id": "02529b79",
   "metadata": {},
   "source": [
    "Lesson 11 Chapter 5.6 ユーザーからの質問を処理する関数"
   ]
  },
  {
   "cell_type": "code",
   "execution_count": 9,
   "id": "9ded7738",
   "metadata": {},
   "outputs": [],
   "source": [
    "# ユーザーからの質問を処理する関数\n",
    "def process_response(question, tools):\n",
    "    response = ask_question(question, tools)\n",
    "\n",
    "    if response.choices[0].finish_reason == 'tool_calls':\n",
    "        # ツール呼出の場合\n",
    "        final_response = handle_tool_call(response, question)\n",
    "        return final_response.choices[0].message.content.strip()\n",
    "    else:\n",
    "        # 言語モデルが直接回答する場合\n",
    "        return response.choices[0].message.content.strip()"
   ]
  },
  {
   "cell_type": "markdown",
   "id": "4dda2e3c",
   "metadata": {},
   "source": [
    "Lesson 11 Chapter 5.7 動作確認"
   ]
  },
  {
   "cell_type": "code",
   "execution_count": 10,
   "id": "58ff0308",
   "metadata": {},
   "outputs": [
    {
     "name": "stdout",
     "output_type": "stream",
     "text": [
      "------define_tools(ツール定義)------\n",
      "東京都と沖縄県の面積を比較すると、沖縄県の方が広いです。\n",
      "\n",
      "- 東京都の面積は約2,194平方キロメートルです。\n",
      "- 沖縄県の面積は約2,271平方キロメートルです。\n",
      "\n",
      "したがって、沖縄県は東京都よりもわずかに広いです。\n"
     ]
    }
   ],
   "source": [
    "tools = define_tools()\n",
    "\n",
    "# 言語モデルが直接回答できる質問\n",
    "question = \"東京都と沖縄県はどちらが広いですか？\"\n",
    "response_message = process_response(question, tools)\n",
    "print(response_message)"
   ]
  },
  {
   "cell_type": "code",
   "execution_count": 11,
   "id": "ac3b3964",
   "metadata": {},
   "outputs": [
    {
     "name": "stdout",
     "output_type": "stream",
     "text": [
      "------define_tools(ツール定義)------\n",
      "最近1ヶ月以内に東京駅周辺で開催されるイベントについての情報をいくつかご紹介します。\n",
      "\n",
      "1. **東京駅（東京府）周辺のイベント情報**\n",
      "   - **イベント名**: 東京駅周辺のイベント\n",
      "   - **日時**: 2025年に複数のイベントが予定されています。\n",
      "   - **内容**: 詳細は、[WalkerPlus](https://www.walkerplus.com/event_list/ar0313/sc309880d/) で確認できます。\n",
      "\n",
      "2. **英文展示「今日行ける！東京駅周辺のあすゆうイベント」**\n",
      "   - **日時**: 2025年8月19日から8月25日まで\n",
      "   - **場所**: 東京駅周辺\n",
      "   - **内容**: 国際アートや地元の魅力を発信するイベント。詳細は、[Enjoy Tokyo](https://www.enjoytokyo.jp/event/list/sta200101/its04/) を参照してください。\n",
      "\n",
      "3. **GRANSTAの新着情報**\n",
      "   - **内容**: 東京駅構内にあるGRANSTAでの新しいショップなどの情報が公開されています。詳細は[GRANSTA](https://www.gransta.jp/news/)のサイトをチェックしてください。\n",
      "\n",
      "4. **CREATIVE MUSEUM TOKYO**\n",
      "   - **開催期間**: 2025年9月12日から9月14日\n",
      "   - **内容**: クリエイティブな展覧会。詳細は[Enjoy Tokyo](https://www.enjoytokyo.jp/event/list/area1306/)を確認してください。\n",
      "\n",
      "これらの情報は、東京駅周辺の最近のイベントの一部です。興味があるイベントがあれば、公式サイトで詳細を確認することをおすすめします。\n"
     ]
    }
   ],
   "source": [
    "tools = define_tools()\n",
    "\n",
    "# ツール呼出が必要な質問\n",
    "question = \"東京駅のイベントについて、最近1ヶ月以内の検索結果を教えてください\"\n",
    "response_message = process_response(question, tools)\n",
    "print(response_message)"
   ]
  },
  {
   "cell_type": "markdown",
   "id": "5fced34d",
   "metadata": {},
   "source": [
    "Lesson 11 Chapter 6.1 ソースコードで確認"
   ]
  },
  {
   "cell_type": "code",
   "execution_count": 14,
   "id": "9d7ecdf6",
   "metadata": {},
   "outputs": [
    {
     "name": "stdout",
     "output_type": "stream",
     "text": [
      "------define_tools(ツール定義)------\n"
     ]
    },
    {
     "data": {
      "text/plain": [
       "'質問:こんにちは！'"
      ]
     },
     "metadata": {},
     "output_type": "display_data"
    },
    {
     "name": "stdout",
     "output_type": "stream",
     "text": [
      "こんにちは！今日はどんなことをお手伝いできますか？\n"
     ]
    },
    {
     "data": {
      "text/plain": [
       "'質問:東北６県は？'"
      ]
     },
     "metadata": {},
     "output_type": "display_data"
    },
    {
     "name": "stdout",
     "output_type": "stream",
     "text": [
      "東北地方は、日本の北東部に位置する地域で、以下の6つの県から構成されています。\n",
      "\n",
      "1. 青森県（あおもりけん）\n",
      "2. 岩手県（いわてけん）\n",
      "3. 宮城県（みやぎけん）\n",
      "4. 秋田県（あきたけん）\n",
      "5. 山形県（やまがたけん）\n",
      "6. 福島県（ふくしまけん）\n",
      "\n",
      "これらの県は、自然の美しさや豊かな文化、歴史的な名所があることでも知られています。\n"
     ]
    },
    {
     "data": {
      "text/plain": [
       "'質問:宮城県のお土産について検索した結果を教えて'"
      ]
     },
     "metadata": {},
     "output_type": "display_data"
    },
    {
     "name": "stdout",
     "output_type": "stream",
     "text": [
      "宮城県のお土産に関する情報をいくつか挙げてみます。\n",
      "\n",
      "1. **宮城のお土産ランキング**: 宮城県で人気のお土産をランク付けした情報がいくつか提供されています。地元で作られたお菓子や特産品が含まれています。たとえば「ずんだ餅」や「萩の月」などが有名です。 [詳細はこちら](https://www.jalan.net/omiyage/040000/)。\n",
      "\n",
      "2. **お土産の種類**: 宮城県の特産品としては、牛たんや、萩の月、ずんだ餅、仙台味噌、海産物などが挙げられます。特にずんだ関連は観光客に好評です。 [さらに詳しく](https://tsplus.asahi.co.jp/articles/gift/75865/)。\n",
      "\n",
      "3. **おすすめのお土産**: 具体的な商品名として「萩の月」、「ずんだ餅」、「鬼がらし」、「ぶっかけ冷やしそば」などが紹介されています。これらは商品の質や味を考慮して選ばれています。 [詳しくはここをチェック](https://tohokuru.jp/blogs/feature/miyage_miyagi?srsltid=AfmBOorVPNK74a4oU_pPB68PyQTJWVzyuS6BP_DWQehTK6nSukbYXHMz)。\n",
      "\n",
      "4. **お土産店や購入方法**: 宮城県内の店舗や観光地でこれらの特産品を購入することができます。観光スポットの周辺には、特産物を扱っている店舗も多くあります。 [ショッピング情報まとめ](https://sakidori.co/article/1320827)。\n",
      "\n",
      "これらの情報を参考に、宮城県を訪れた際にはぜひ地元の特産品をお土産として楽しんでみてください！\n"
     ]
    },
    {
     "data": {
      "text/plain": [
       "'質問:青森県のお土産について検索した結果を教えて'"
      ]
     },
     "metadata": {},
     "output_type": "display_data"
    },
    {
     "name": "stdout",
     "output_type": "stream",
     "text": [
      "青森県のお土産には多くの魅力的な選択肢があります。以下はその一部です。\n",
      "\n",
      "1. **青森のリンゴスナック**:\n",
      "   - 青森県産のリンゴを使用した健康的なおやつで、フリーズドライにし、添加物を含まずに自然の風味と甘さを閉じ込めています。\n",
      "\n",
      "2. **ねぷたせんべい**:\n",
      "   - 青森県黒石市の老舗菓子店「柴川つがるせんべい」で作られた、つがる米を使用した米菓です。\n",
      "\n",
      "3. **青森の伝統的な工芸品や加工食品**:\n",
      "   - 地元の郷土料理や新鮮な魚介類、肉、野菜などが豊富にあります。地域の特産品を使った商品が多く、地元のお土産店や市場で購入できます。\n",
      "\n",
      "4. **青森の鮮魚や海産物**:\n",
      "   - 新鮮な魚介類は、地元で太陽の光を浴びて育った自然豊かな環境で採れたものです。\n",
      "\n",
      "これらのお土産は、青森の風味を楽しむだけでなく、県の文化や伝統を感じることもできるすばらしい品々です。興味のある方は、ぜひ青森を訪れてみてください。\n",
      "\n",
      "詳細な情報は、次のリンクからご覧いただけます:\n",
      "- [青森のおすすめお土産](https://monita.online/article/844)\n",
      "- [青森の特産品について](https://aomori-tourism.com/gourmet/index.html)\n",
      "\n",
      "---ご利用ありがとうございました！---\n"
     ]
    }
   ],
   "source": [
    "# チャットボットへの組み込み\n",
    "tools = define_tools()\n",
    "\n",
    "messages=[]\n",
    "\n",
    "role = input(\"チャットボットのキャラクターを設定してください:\")\n",
    "messages.append({\"role\":\"system\", \"content\": role.strip()})\n",
    "\n",
    "while(True):\n",
    "    # ユーザーからの質問を受付\n",
    "    question = input(\"メッセージを入力:\")\n",
    "    # 質問が入力されなければ終了\n",
    "    if question.strip()==\"\":\n",
    "        break\n",
    "    display(f\"質問:{question}\")\n",
    "\n",
    "    # メッセージにユーザーからの質問を追加\n",
    "    messages.append({\"role\": \"user\", \"content\": question.strip()})\n",
    "    # やりとりが8を超えたら古いメッセージから削除\n",
    "    if len(messages) > 8:\n",
    "        for i, msg in enumerate(messages):\n",
    "            if msg[\"role\"] == \"user\":\n",
    "                del_message = messages.pop(i)\n",
    "                if len(messages) <= 8:\n",
    "                    break\n",
    "\n",
    "    # 言語モデルに質問\n",
    "    response_message = process_response(question, tools)\n",
    "\n",
    "    # メッセージに言語モデルからの回答を追加\n",
    "    print(response_message, flush=True)\n",
    "    messages.append({\"role\": \"assistant\", \"content\": response_message})\n",
    "\n",
    "print(\"\\n---ご利用ありがとうございました！---\")"
   ]
  }
 ],
 "metadata": {
  "kernelspec": {
   "display_name": ".venv",
   "language": "python",
   "name": "python3"
  },
  "language_info": {
   "codemirror_mode": {
    "name": "ipython",
    "version": 3
   },
   "file_extension": ".py",
   "mimetype": "text/x-python",
   "name": "python",
   "nbconvert_exporter": "python",
   "pygments_lexer": "ipython3",
   "version": "3.12.10"
  }
 },
 "nbformat": 4,
 "nbformat_minor": 5
}
