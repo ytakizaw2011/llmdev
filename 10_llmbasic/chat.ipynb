{
 "cells": [
  {
   "cell_type": "markdown",
   "id": "8ed2deb2",
   "metadata": {},
   "source": [
    "Lesson 10 Chapter 4.3 APIリクエストの準備"
   ]
  },
  {
   "cell_type": "code",
   "execution_count": 1,
   "id": "4f82834c",
   "metadata": {},
   "outputs": [],
   "source": [
    "# 必要なモジュールをインポート\n",
    "import os\n",
    "from dotenv import load_dotenv\n",
    "from openai import OpenAI\n",
    "from pprint import pprint\n",
    "\n",
    "# 環境変数の取得\n",
    "load_dotenv(\"../.env\")\n",
    "\n",
    "# OpenAI APIクライアントを生成\n",
    "client = OpenAI(api_key=os.environ['API_KEY'])\n",
    "\n",
    "# モデル名\n",
    "MODEL_NAME = \"gpt-4o-mini\""
   ]
  },
  {
   "cell_type": "markdown",
   "id": "74676d2c",
   "metadata": {},
   "source": [
    "Lesson 10 Chapter 4.4 APIリクエストとレスポンスの基本"
   ]
  },
  {
   "cell_type": "code",
   "execution_count": 3,
   "id": "372cc65a",
   "metadata": {},
   "outputs": [
    {
     "name": "stdout",
     "output_type": "stream",
     "text": [
      "{'_request_id': 'req_1bd04d6f510347989d92b29307dfdd8b',\n",
      " 'choices': [Choice(finish_reason='stop', index=0, logprobs=None, message=ChatCompletionMessage(content='言語モデルを使う上でのポイントはいくつかあります。以下に重要な点を挙げます。\\n\\n1. **明確な指示を出す**: 言語モデルに対しては、具体的で明確な質問や指示を与えると、より良い結果が得られます。あいまいな表現は避けましょう。\\n\\n2. **コンテキストを提供する**: モデルが文脈を理解できるように、関連情報や背景を提供することが大切です。特に長い文脈や複雑な状況では、必要な情報をしっかりと提供することが重要です。\\n\\n3. **フィードバックを活用する**: モデルからの応答が期待に応えない場合は、フィードバックを与えたり、質問を再構成したりすることで、より良い結果を得ることができます。\\n\\n4. **制約を設定する**: 特定のスタイルや形式、または内容に制約を設けることで、より狙った結果に近づけることができます。例: 「200文字以内で説明してください」など。\\n\\n5. **クリエイティブな活用**: 言語モデルはアイデア出しやブレインストーミングにも役立ちます。新しい視点やアプローチを探る際に利用することで、思考を広げることができます。\\n\\n6. **検証と批判的思考**: モデルが生成した情報や提案が正確かどうかを必ず検証し、批判的な視点を持つことが重要です。特に専門的な内容では注意が必要です。\\n\\n7. **倫理と責任を考慮する**: 言語モデルを使う際には、情報の利用方法や発信内容が倫理的であるかどうかを考える必要があります。不適切な内容を生成しないように注意しましょう。\\n\\nこれらのポイントを意識することで、言語モデルをより効果的に活用できるでしょう。', refusal=None, role='assistant', audio=None, function_call=None, tool_calls=None, annotations=[]))],\n",
      " 'created': 1757468745,\n",
      " 'id': 'chatcmpl-CE4C1uTj4TZXH28qrjqz6U5VxOYzS',\n",
      " 'model': 'gpt-4o-mini-2024-07-18',\n",
      " 'object': 'chat.completion',\n",
      " 'service_tier': 'default',\n",
      " 'system_fingerprint': 'fp_8bda4d3a2c',\n",
      " 'usage': CompletionUsage(completion_tokens=479, prompt_tokens=18, total_tokens=497, completion_tokens_details=CompletionTokensDetails(accepted_prediction_tokens=0, audio_tokens=0, reasoning_tokens=0, rejected_prediction_tokens=0), prompt_tokens_details=PromptTokensDetails(audio_tokens=0, cached_tokens=0))}\n"
     ]
    }
   ],
   "source": [
    "# メッセージの設定\n",
    "message = \"言語モデルを使う上でのポイントは\"\n",
    "\n",
    "# APIへリクエスト\n",
    "response = client.chat.completions.create(\n",
    "    model=MODEL_NAME,\n",
    "    messages=[\n",
    "        {\"role\": \"user\", \"content\": message},\n",
    "    ]\n",
    ")\n",
    "\n",
    "# レスポンスの表示\n",
    "pprint(vars(response))"
   ]
  },
  {
   "cell_type": "markdown",
   "id": "a7506a56",
   "metadata": {},
   "source": [
    "Lesson 10 Chapter 4.5 言語モデルからの回答を取得"
   ]
  },
  {
   "cell_type": "code",
   "execution_count": 4,
   "id": "421c235f",
   "metadata": {},
   "outputs": [
    {
     "name": "stdout",
     "output_type": "stream",
     "text": [
      "言語モデルを使う上でのポイントはいくつかあります。以下に重要な点を挙げます。\n",
      "\n",
      "1. **明確な指示を出す**: 言語モデルに対しては、具体的で明確な質問や指示を与えると、より良い結果が得られます。あいまいな表現は避けましょう。\n",
      "\n",
      "2. **コンテキストを提供する**: モデルが文脈を理解できるように、関連情報や背景を提供することが大切です。特に長い文脈や複雑な状況では、必要な情報をしっかりと提供することが重要です。\n",
      "\n",
      "3. **フィードバックを活用する**: モデルからの応答が期待に応えない場合は、フィードバックを与えたり、質問を再構成したりすることで、より良い結果を得ることができます。\n",
      "\n",
      "4. **制約を設定する**: 特定のスタイルや形式、または内容に制約を設けることで、より狙った結果に近づけることができます。例: 「200文字以内で説明してください」など。\n",
      "\n",
      "5. **クリエイティブな活用**: 言語モデルはアイデア出しやブレインストーミングにも役立ちます。新しい視点やアプローチを探る際に利用することで、思考を広げることができます。\n",
      "\n",
      "6. **検証と批判的思考**: モデルが生成した情報や提案が正確かどうかを必ず検証し、批判的な視点を持つことが重要です。特に専門的な内容では注意が必要です。\n",
      "\n",
      "7. **倫理と責任を考慮する**: 言語モデルを使う際には、情報の利用方法や発信内容が倫理的であるかどうかを考える必要があります。不適切な内容を生成しないように注意しましょう。\n",
      "\n",
      "これらのポイントを意識することで、言語モデルをより効果的に活用できるでしょう。\n"
     ]
    }
   ],
   "source": [
    "# 言語モデルからの回答を表示\n",
    "print(response.choices[0].message.content.strip())"
   ]
  },
  {
   "cell_type": "markdown",
   "id": "947f7b41",
   "metadata": {},
   "source": [
    "Lesson 10Chapter 5.1 ソースコードで確認"
   ]
  },
  {
   "cell_type": "code",
   "execution_count": 5,
   "id": "ca6415aa",
   "metadata": {},
   "outputs": [
    {
     "name": "stdout",
     "output_type": "stream",
     "text": [
      "新製品の発売に向けた効果的なマーケティング戦略は、以下のステップを踏むことで実現できます。\n",
      "\n",
      "### 1. 市場調査とターゲット分析\n",
      "- **市場調査**: 競合分析や消費者ニーズを把握するためにリサーチを行います。トレンド、デモグラフィックス、購入パターンを調査。\n",
      "- **ターゲットオーディエンスの特定**: 誰に製品を売るのかを明確にし、ペルソナを作成します。\n",
      "\n",
      "### 2. 明確なバリュープロポジションの設定\n",
      "- 新製品がどのように消費者の問題を解決するのか、他社製品と何が違うのか、明確な価値を提供できる点を定義します。\n",
      "\n",
      "### 3. プレ-launch Marketing\n",
      "- **ティーザーキャンペーン**: SNSやウェブサイトを活用し、製品の噂や期待感を醸成するためのコンテンツを配信します。\n",
      "- **メールマーケティング**: 興味を持つ可能性が高い顧客リストを使って、プロモーションや先行登録の案内を送付。\n",
      "\n",
      "### 4. 発売イベントの開催\n",
      "- 新製品の発表イベントやオンラインウェビナーを開催し、メディアやインフルエンサーを招待して注目を集めることが重要です。\n",
      "\n",
      "### 5. デジタルマーケティングプランの策定\n",
      "- **SNS広告**: Facebook、Instagram、Twitterなどのプラットフォームでのターゲット広告キャンペーン。\n",
      "- **SEO対策**: 製品に関連するキーワードでの検索エンジン最適化を行い、ウェブサイトへのトラフィックを増やします。\n",
      "- **コンテンツマーケティング**: ブログ、動画、インフォグラフィックスなどで製品の特長や使用方法を紹介し、ユーザーの関心を引きます。\n",
      "\n",
      "### 6. インフルエンサーマーケティング\n",
      "- 業界に影響力のあるインフルエンサーと協力し、製品をレビューしてもらうことで、信頼性を高めます。\n",
      "\n",
      "### 7. クラウドファンディングやプレオーダーキャンペーン\n",
      "- 関心を引き、事前予約やクラウドファンディングを通じて市場の需要を測定し、資金調達を行います。\n",
      "\n",
      "### 8. フィードバックループの構築\n",
      "- 発売後、顧客からのフィードバックをもとに製品やマーケティング戦略の改善を行います。レビューや意見を収集し、次のマーケティング活動に生かします。\n",
      "\n",
      "### 9. ローンチ後のマーケティング継続\n",
      "- 発売後もキャンペーンを継続し、製品の認知度や販売を維持します。アフターケアやリマーケティングを通じて顧客を維持します。\n",
      "\n",
      "この全体のプロセスを通じて、チーム内での協力とコミュニケーションが不可欠であり、各ステップにおけるデータ分析の活用も大切です。\n"
     ]
    }
   ],
   "source": [
    "# 役割や前提の設定\n",
    "role = \"あなたはマーケティング分野に精通したビジネスコンサルタントです。企業の成長をサポートするために、効果的なマーケティング戦略を提供します。\"\n",
    "\n",
    "# メッセージの設定\n",
    "message = \"新製品の発売に向けた効果的なマーケティング戦略を教えてください。\"\n",
    "\n",
    "# APIへリクエスト\n",
    "response = client.chat.completions.create(\n",
    "    model=MODEL_NAME,\n",
    "    messages=[\n",
    "        {\"role\": \"system\", \"content\": role},\n",
    "        {\"role\": \"user\", \"content\": message},\n",
    "    ],\n",
    ")\n",
    "\n",
    "# 言語モデルからの回答を表示\n",
    "print(response.choices[0].message.content.strip())"
   ]
  },
  {
   "cell_type": "markdown",
   "id": "f1f34dd5",
   "metadata": {},
   "source": [
    "Lesson 10 Chapter 6.2 出力の多様性: temperature、top_p"
   ]
  },
  {
   "cell_type": "code",
   "execution_count": 9,
   "id": "00906637",
   "metadata": {},
   "outputs": [
    {
     "name": "stdout",
     "output_type": "stream",
     "text": [
      "--------------------\n",
      "日本の魅力はたくさんありますね。以下にいくつかのポイントを紹介します。\n",
      "\n",
      "1. **文化と歴史**: 日本は多彩な文化と豊かな歴史を持っています。古代の神社やお寺、城や伝統的な町並みを見ることで、数千年の歴史を感じることができます。例えば、京都や奈良は歴史的なSitesとして訪れる価値があります。\n",
      "--------------------\n",
      "日本の魅力は多岐にわたります。以下にいくつかのポイントを挙げてみますね。\n",
      "\n",
      "1. **美しい自然**: 日本は、四季折々の美しい自然景観が楽しめます。桜の季節には花見を、お茶の季節には茶畑を、一年中温泉地で充実した休暇を楽しむことができます。\n",
      "\n",
      "2. **歴史と\n",
      "--------------------\n",
      "もちろんです！日本の魅力をいくつか紹介しますね。\n",
      "\n",
      "1. **自然の美**: 日本は美しい自然環境に恵まれています。春には桜が咲き乱れ、夏には一面の緑と美しい祭りが、秋には紅葉、冬には雪景色と、四季折々の素晴らしい自然が楽しめます。\n",
      "\n",
      "2. **豊かな文化**: 日本の\n"
     ]
    }
   ],
   "source": [
    "# 出力の多様性\n",
    "message = \"日本の魅力を紹介して！\"\n",
    "\n",
    "# APIへリクエスト\n",
    "response = client.chat.completions.create(\n",
    "    model=MODEL_NAME,\n",
    "    messages=[\n",
    "        {\"role\": \"user\", \"content\": message},\n",
    "    ],\n",
    "    temperature=1.4,\n",
    "    n = 3, # 3回答を得る\n",
    "    max_completion_tokens = 100 # 出力トークン長を制限\n",
    ")\n",
    "\n",
    "# 結果を表示（複数回答を比較）\n",
    "for choice in response.choices:\n",
    "    print(\"-\" * 20)\n",
    "    print(choice.message.content.strip())"
   ]
  },
  {
   "cell_type": "code",
   "execution_count": 11,
   "id": "17656230",
   "metadata": {},
   "outputs": [
    {
     "name": "stdout",
     "output_type": "stream",
     "text": [
      "--------------------\n",
      "もちろんです！日本は多様な文化、歴史、自然、美食などが魅力的な国です。以下にいくつかのポイントを紹介します。\n",
      "\n",
      "### 1. 文化と伝統\n",
      "- **祭り**: 日本各地で行われる伝統的な祭り（例：祇園祭、ねぶた祭り）は、色鮮やかで活気に満ちています。\n",
      "- **茶道**:\n",
      "--------------------\n",
      "もちろんです！日本は多様な文化、歴史、自然の美しさが融合した魅力的な国です。以下にいくつかのポイントを紹介します。\n",
      "\n",
      "### 1. 文化と伝統\n",
      "- **祭り**: 日本各地で行われる伝統的な祭り（例：祇園祭、ねぶた祭り）は、地域の文化や歴史を体験できる素晴らしい機\n",
      "--------------------\n",
      "もちろんです！日本は多様な文化、歴史、自然の美しさが融合した魅力的な国です。以下にいくつかのポイントを紹介します。\n",
      "\n",
      "### 1. 文化と伝統\n",
      "- **祭り**: 日本各地で行われる伝統的な祭り（例：祇園祭、ねぶた祭り）は、地域の文化や歴史を体験できる素晴らしい機\n"
     ]
    }
   ],
   "source": [
    "# 出力の多様性\n",
    "message = \"日本の魅力を紹介して！\"\n",
    "\n",
    "# APIへリクエスト\n",
    "response = client.chat.completions.create(\n",
    "    model=MODEL_NAME,\n",
    "    messages=[\n",
    "        {\"role\": \"user\", \"content\": message},\n",
    "    ],\n",
    "    temperature=0.0,\n",
    "    n = 3, # 3回答を得る\n",
    "    max_completion_tokens = 100 # 出力トークン長を制限\n",
    ")\n",
    "\n",
    "# 結果を表示（複数回答を比較）\n",
    "for choice in response.choices:\n",
    "    print(\"-\" * 20)\n",
    "    print(choice.message.content.strip())"
   ]
  },
  {
   "cell_type": "markdown",
   "id": "d0108175",
   "metadata": {},
   "source": [
    "Lesson 10 Chapter 6.3 単語の使用頻度：presence_penalty、frequency_penalty"
   ]
  },
  {
   "cell_type": "code",
   "execution_count": 12,
   "id": "fedeee30",
   "metadata": {},
   "outputs": [
    {
     "name": "stdout",
     "output_type": "stream",
     "text": [
      "--------------------\n",
      "もちろんです！日本は多様な魅力を持つ国です。いくつかのポイントを紹介しますね。\n",
      "\n",
      "1. **文化と歴史**: 日本は古い歴史を持ち、伝統文化が色濃く残っています。神社やお寺、古い町並みが多数存在し、歴史を感じることができます。特に京都や奈良は、伝統的な建物や文化財が\n",
      "--------------------\n",
      "もちろんです！日本には多くの魅力がありますので、いくつかご紹介します。\n",
      "\n",
      "1. **文化と歴史**: 日本には古い寺院や神社、城などの歴史的な建造物があります。京都の金閣寺や奈良の東大寺など、訪れる価値のある場所がたくさんあります。また、伝統的な祭りや文化、茶道、書道など多様な文化\n",
      "--------------------\n",
      "もちろんです！日本の魅力はたくさんありますが、いくつかのポイントを挙げてみますね。\n",
      "\n",
      "### 1. 文化と伝統\n",
      "- **神社と寺**: 日本には多くの神社（神道の聖地）や寺（仏教の聖地）があり、四季ごとに様々な祭りや行事が行われます。\n",
      "- **茶道**: お\n"
     ]
    }
   ],
   "source": [
    "# 出力の多様性\n",
    "message = \"日本の魅力を紹介して！\"\n",
    "\n",
    "# APIへリクエスト\n",
    "response = client.chat.completions.create(\n",
    "    model=MODEL_NAME,\n",
    "    messages=[\n",
    "        {\"role\": \"user\", \"content\": message},\n",
    "    ],\n",
    "    presence_penalty=-2.0,\n",
    "    n = 3, # 3回答を得る\n",
    "    max_completion_tokens = 100 # 出力トークン長を制限\n",
    ")\n",
    "\n",
    "# 結果を表示（複数回答を比較）\n",
    "for choice in response.choices:\n",
    "    print(\"-\" * 20)\n",
    "    print(choice.message.content.strip())"
   ]
  },
  {
   "cell_type": "code",
   "execution_count": 13,
   "id": "cac7aaaa",
   "metadata": {},
   "outputs": [
    {
     "name": "stdout",
     "output_type": "stream",
     "text": [
      "--------------------\n",
      "もちろん、日本の魅力について紹介します！\n",
      "\n",
      "### 1. 伝統文化\n",
      "- **和式の生活**: 着物や茶道、華道など、古くから続く日本の伝統文化は深い美意識と精神性を持っています。\n",
      "- **神社仏閣**: 日本全国には素晴らしい神社や寺があります。特に京都や奈良は歴史的な建築が多く、\n",
      "--------------------\n",
      "もちろんです！日本は豊かな文化、歴史、自然、美しい風景、そして美味しい食べ物が詰まった魅力的な国です。以下にいくつかのポイントを紹介します。\n",
      "\n",
      "### 1. **伝統と現代の融合**\n",
      "日本は伝統と現代が共存する独特な国です。例えば、京都の古い寺院や神社、江戸時代の街並みなど\n",
      "--------------------\n",
      "もちろんです！日本には多くの魅力がありますので、いくつかご紹介しますね。\n",
      "\n",
      "### 1. 自然の美\n",
      "日本は四季が明確で、それぞれに独自の自然美があります。春は桜、夏は緑豊かな山々、秋は紅葉、冬は雪景色が楽しめます。また、温泉地も多くリラクゼーションスポットとして人気です。\n",
      "\n",
      "### 2.\n"
     ]
    }
   ],
   "source": [
    "# 出力の多様性\n",
    "message = \"日本の魅力を紹介して！\"\n",
    "\n",
    "# APIへリクエスト\n",
    "response = client.chat.completions.create(\n",
    "    model=MODEL_NAME,\n",
    "    messages=[\n",
    "        {\"role\": \"user\", \"content\": message},\n",
    "    ],\n",
    "    presence_penalty=2.0,\n",
    "    n = 3, # 3回答を得る\n",
    "    max_completion_tokens = 100 # 出力トークン長を制限\n",
    ")\n",
    "\n",
    "# 結果を表示（複数回答を比較）\n",
    "for choice in response.choices:\n",
    "    print(\"-\" * 20)\n",
    "    print(choice.message.content.strip())"
   ]
  },
  {
   "cell_type": "markdown",
   "id": "54faf10a",
   "metadata": {},
   "source": [
    "Lesson 10 Chapter 6.4 トークンの選択度合い：logit_bias"
   ]
  },
  {
   "cell_type": "code",
   "execution_count": 14,
   "id": "4973edd7",
   "metadata": {},
   "outputs": [
    {
     "name": "stdout",
     "output_type": "stream",
     "text": [
      "tokens_count=2\n",
      "tokens=[95839, 3393]\n"
     ]
    }
   ],
   "source": [
    "import tiktoken\n",
    "from tiktoken.core import Encoding\n",
    "\n",
    "# OpenAI APIの特定のモデルに対応するトークナイザーを取得\n",
    "encoding: Encoding = tiktoken.encoding_for_model(MODEL_NAME) # o200k_base\n",
    "\n",
    "# テキストをトークンIDのリストに変換\n",
    "tokens = encoding.encode(\"こんにちは！\")\n",
    "tokens_count = len(tokens)\n",
    "\n",
    "# トークンの長さとトークンIDを表示\n",
    "print(f\"{tokens_count=}\")\n",
    "print(f\"{tokens=}\")"
   ]
  },
  {
   "cell_type": "code",
   "execution_count": 15,
   "id": "8e74d7a4",
   "metadata": {},
   "outputs": [
    {
     "name": "stdout",
     "output_type": "stream",
     "text": [
      "--------------------\n",
      "B:こんにちは、Aさん！お元気ですか？\n",
      "--------------------\n",
      "B:こんにちは、Aさん！最近どうですか？\n",
      "--------------------\n",
      "B:こんにちは！最近どうですか？\n"
     ]
    }
   ],
   "source": [
    "# トークンの選択度合い\n",
    "message = \"\"\"\n",
    "AさんとBさんで会話してください。\n",
    "A:あ、Bさんだ。\n",
    "B:\n",
    "\"\"\"\n",
    "\n",
    "# APIへリクエスト\n",
    "response = client.chat.completions.create(\n",
    "    model=MODEL_NAME,\n",
    "    messages=[\n",
    "        {\"role\": \"user\", \"content\": message},\n",
    "    ],\n",
    "    max_tokens=100,\n",
    "    n=3,\n",
    "    logit_bias = {95839:8, 3393:8}\n",
    ")\n",
    "\n",
    "# 結果を表示\n",
    "for choice in response.choices:\n",
    "    print(\"-\" * 20)\n",
    "    print(choice.message.content.strip())"
   ]
  },
  {
   "cell_type": "markdown",
   "id": "20a600c1",
   "metadata": {},
   "source": [
    "Lesson 10 Chapter 6.5 回答をストリーミングで得る：stream"
   ]
  },
  {
   "cell_type": "code",
   "execution_count": 16,
   "id": "76a350d5",
   "metadata": {},
   "outputs": [
    {
     "name": "stdout",
     "output_type": "stream",
     "text": [
      "言語モデルを効果的に使用するためのポイントはいくつかあります。以下に主な注意点を挙げます。\n",
      "\n",
      "1. **明確な指示を与える**: モデルに対して何を求めているのかを明確に示すことで、期待する出力を得やすくなります。具体的な質問やリクエストをすることが重要です。\n",
      "\n",
      "2. **コンテキストを提供する**: モデルがより関連性の高い応答を生成できるように、必要な背景情報やコンテキストを提供することが大切です。\n",
      "\n",
      "3. **複数の視点を考慮する**: モデルから得られた情報や意見が一つの視点に偏っている場合があるため、多様な情報源を参照することが重要です。\n",
      "\n",
      "4. **結果を批判的に評価する**: モデルからの出力は必ずしも正確ではないため、常にその信頼性や妥当性を評価し、必要に応じて他の情報源を確認することが重要です。\n",
      "\n",
      "5. **ファインチューニングを考慮する**: 特定の用途に応じてモデルをカスタマイズすることで、より良い結果を得ることが可能です。必要に応じて、特定のデータセットで訓練を行うことも検討してみてください。\n",
      "\n",
      "6. **倫理を意識する**: モデルの出力が倫理的かつ適切であることを常に考慮し、不適切なコンテンツや偏見を助長しないよう注意することが重要です。\n",
      "\n",
      "7. **適度に使用する**: 言語モデルは強力ですが、すべての状況において最適な解決策であるとは限りません。専門家の意見や他のリソースと組み合わせて使用することをお勧めします。\n",
      "\n",
      "これらのポイントを念頭に置くことで、言語モデルをより効果的に活用できるでしょう。"
     ]
    }
   ],
   "source": [
    "# メッセージの設定\n",
    "message = \"言語モデルを使う上でのポイントは\"\n",
    "\n",
    "# APIへリクエスト\n",
    "stream = client.chat.completions.create(\n",
    "    model=MODEL_NAME,\n",
    "    messages=[\n",
    "        {\"role\": \"user\", \"content\": message},\n",
    "    ],\n",
    "    stream=True,\n",
    ")\n",
    "\n",
    "for chunk in stream:\n",
    "    if chunk.choices:\n",
    "        if chunk.choices[0].delta.content is not None:\n",
    "            print(chunk.choices[0].delta.content, end=\"\")"
   ]
  }
 ],
 "metadata": {
  "kernelspec": {
   "display_name": ".venv",
   "language": "python",
   "name": "python3"
  },
  "language_info": {
   "codemirror_mode": {
    "name": "ipython",
    "version": 3
   },
   "file_extension": ".py",
   "mimetype": "text/x-python",
   "name": "python",
   "nbconvert_exporter": "python",
   "pygments_lexer": "ipython3",
   "version": "3.12.10"
  }
 },
 "nbformat": 4,
 "nbformat_minor": 5
}
