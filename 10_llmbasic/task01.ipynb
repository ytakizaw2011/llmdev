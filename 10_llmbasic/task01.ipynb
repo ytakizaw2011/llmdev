{
 "cells": [
  {
   "cell_type": "code",
   "execution_count": 1,
   "id": "169506d9",
   "metadata": {},
   "outputs": [],
   "source": [
    "# 必要なモジュールをインポート\n",
    "import os\n",
    "from dotenv import load_dotenv\n",
    "from openai import OpenAI\n",
    "from pprint import pprint\n",
    "\n",
    "# 環境変数の取得\n",
    "load_dotenv(\"../.env\")\n",
    "\n",
    "# OpenAI APIクライアントを生成\n",
    "client = OpenAI(api_key=os.environ['API_KEY'])\n",
    "\n",
    "# モデル名\n",
    "MODEL_NAME = \"gpt-4o-mini\""
   ]
  },
  {
   "cell_type": "code",
   "execution_count": 13,
   "id": "7702d2a3",
   "metadata": {},
   "outputs": [
    {
     "name": "stdout",
     "output_type": "stream",
     "text": [
      "質問:こんにちは！\n",
      "こんにちはにゃ！今日はどんなことを話したいにゃ？質問:何して遊ぶ？\n",
      "遊ぶのは大好きにゃ！毛糸玉で遊ぶのはどうかにゃ？それともキャッチボールにゃ？どちらも楽しいにゃ～！質問:日向ぼっこは好き？\n",
      "大好きにゃ！あったかい日差しの中でゴロゴロするのは最高にゃ。日向ぼっこしながらお昼寝するのもいいにゃね～。あなたはどうかにゃ？質問:私も日向ぼっこは好き\n",
      "それはいいにゃ！一緒に日向ぼっこしたら、もっと気持ち良さそうにゃ。温かい日差しの中で、一緒にゴロゴロしようにゃ！質問:ご飯は何が好き？\n",
      "やっぱりお魚にゃ！新鮮なお魚が大好きにゃ～。それに、ちょっとしたおやつも嬉しいにゃ。あなたは何が好きかにゃ？\n",
      "---ご利用ありがとうございました！---\n"
     ]
    }
   ],
   "source": [
    "# メッセージを格納するリスト\n",
    "messages=[]\n",
    "\n",
    "role = input(\"チャットボットのキャラクターを設定してください:\")\n",
    "messages.append({\"role\":\"system\", \"content\": role.strip()})\n",
    "while(True):\n",
    "    # ユーザーからの質問を受付\n",
    "    message = input(\"メッセージを入力:\")\n",
    "    # 質問が入力されなければ終了\n",
    "    if message.strip()==\"\":\n",
    "        break\n",
    "    print(f\"質問:{message}\")\n",
    "\n",
    "    # メッセージにユーザーからの質問を追加\n",
    "    messages.append({\"role\": \"user\", \"content\": message.strip()})\n",
    "    # やりとりが8を超えたら古いメッセージから削除\n",
    "    if len(messages) > 8:\n",
    "        for i, msg in enumerate(messages):\n",
    "            if msg[\"role\"] == \"user\":\n",
    "                del_message = messages.pop(i)\n",
    "                if len(messages) <= 8:\n",
    "                    break\n",
    "\n",
    "    # APIへリクエスト\n",
    "    stream = client.chat.completions.create(\n",
    "        model=MODEL_NAME,\n",
    "        messages=messages,\n",
    "        stream=True,\n",
    "    )\n",
    "\n",
    "    # 言語モデルからの回答を表示\n",
    "    response_message = \"\"\n",
    "    for chunk in stream:\n",
    "        if chunk.choices:\n",
    "            next = chunk.choices[0].delta.content\n",
    "            if next is not None:\n",
    "                response_message += next\n",
    "                print(next, end='', flush=True)\n",
    "\n",
    "    # メッセージに言語モデルからの回答を追加\n",
    "    messages.append({\"role\": \"assistant\", \"content\": response_message})\n",
    "\n",
    "print(\"\\n---ご利用ありがとうございました！---\")"
   ]
  }
 ],
 "metadata": {
  "kernelspec": {
   "display_name": ".venv",
   "language": "python",
   "name": "python3"
  },
  "language_info": {
   "codemirror_mode": {
    "name": "ipython",
    "version": 3
   },
   "file_extension": ".py",
   "mimetype": "text/x-python",
   "name": "python",
   "nbconvert_exporter": "python",
   "pygments_lexer": "ipython3",
   "version": "3.12.10"
  }
 },
 "nbformat": 4,
 "nbformat_minor": 5
}
