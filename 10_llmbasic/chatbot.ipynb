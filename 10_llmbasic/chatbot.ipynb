{
 "cells": [
  {
   "cell_type": "markdown",
   "id": "b849ff76",
   "metadata": {},
   "source": [
    "Lesson 10 Chapter 7.1 APIリクエストの準備"
   ]
  },
  {
   "cell_type": "code",
   "execution_count": 1,
   "id": "8a171864",
   "metadata": {},
   "outputs": [],
   "source": [
    "# 必要なモジュールをインポート\n",
    "import os\n",
    "from dotenv import load_dotenv\n",
    "from openai import OpenAI\n",
    "from pprint import pprint\n",
    "\n",
    "# 環境変数の取得\n",
    "load_dotenv(\"../.env\")\n",
    "\n",
    "# OpenAI APIクライアントを生成\n",
    "client = OpenAI(api_key=os.environ['API_KEY'])\n",
    "\n",
    "# モデル名\n",
    "MODEL_NAME = \"gpt-4o-mini\""
   ]
  },
  {
   "cell_type": "markdown",
   "id": "7bda0036",
   "metadata": {},
   "source": [
    "Lesson 10 Chapter 7.2 チャットボットのコード"
   ]
  },
  {
   "cell_type": "code",
   "execution_count": 2,
   "id": "7361c060",
   "metadata": {},
   "outputs": [
    {
     "name": "stdout",
     "output_type": "stream",
     "text": [
      "質問:こんにちは！\n",
      "こんにちは！どうかされましたか？何かお手伝いできることがあれば教えてください。質問:初心者にオススメのプログラミング言語を3つ教えて\n",
      "初心者にオススメのプログラミング言語を3つ紹介します。\n",
      "\n",
      "1. **Python（パイソン）**:\n",
      "   - 読みやすくてシンプルな文法が特徴の言語です。データ解析、ウェブ開発、人工知能など、さまざまな分野で使われており、豊富なライブラリも揃っています。\n",
      "\n",
      "2. **JavaScript（ジャバスクリプト）**:\n",
      "   - ウェブ開発に欠かせない言語で、ブラウザ上で動作します。インタラクティブなウェブサイトを作成するのに使われ、多くのフレームワークやライブラリも存在します。\n",
      "\n",
      "3. **Ruby（ルビー）**:\n",
      "   - シンプルで直感的な文法を持つ言語で、特にウェブアプリケーション開発に適しています。Ruby on Railsというフレームワークが人気で、素早くアプリケーションを開発することができます。\n",
      "\n",
      "これらの言語は入門しやすく、コミュニティも活発なので、学びやすい環境が整っています。興味のある分野に合わせて選んでみてください！質問:1つ目のプログラミング言語の名前は？\n",
      "1つ目のプログラミング言語は「Python（パイソン）」です。シンプルで読みやすい文法が特徴で、さまざまな用途に使われています。\n",
      "---ご利用ありがとうございました！---\n"
     ]
    }
   ],
   "source": [
    "# メッセージを格納するリスト\n",
    "messages=[]\n",
    "\n",
    "while(True):\n",
    "    # ユーザーからの質問を受付\n",
    "    message = input(\"メッセージを入力:\")\n",
    "    # 質問が入力されなければ終了\n",
    "    if message.strip()==\"\":\n",
    "        break\n",
    "    print(f\"質問:{message}\")\n",
    "\n",
    "    # メッセージにユーザーからの質問を追加\n",
    "    messages.append({\"role\": \"user\", \"content\": message.strip()})\n",
    "    # やりとりが8を超えたら古いメッセージから削除\n",
    "    if len(messages) > 8:\n",
    "        del_message = messages.pop(0)\n",
    "\n",
    "    # APIへリクエスト\n",
    "    stream = client.chat.completions.create(\n",
    "        model=MODEL_NAME,\n",
    "        messages=messages,\n",
    "        stream=True,\n",
    "    )\n",
    "\n",
    "    # 言語モデルからの回答を表示\n",
    "    response_message = \"\"\n",
    "    for chunk in stream:\n",
    "        if chunk.choices:\n",
    "            next = chunk.choices[0].delta.content\n",
    "            if next is not None:\n",
    "                response_message += next\n",
    "                print(next, end='', flush=True)\n",
    "\n",
    "    # メッセージに言語モデルからの回答を追加\n",
    "    messages.append({\"role\": \"assistant\", \"content\": response_message})\n",
    "\n",
    "print(\"\\n---ご利用ありがとうございました！---\")"
   ]
  }
 ],
 "metadata": {
  "kernelspec": {
   "display_name": ".venv",
   "language": "python",
   "name": "python3"
  },
  "language_info": {
   "codemirror_mode": {
    "name": "ipython",
    "version": 3
   },
   "file_extension": ".py",
   "mimetype": "text/x-python",
   "name": "python",
   "nbconvert_exporter": "python",
   "pygments_lexer": "ipython3",
   "version": "3.12.10"
  }
 },
 "nbformat": 4,
 "nbformat_minor": 5
}
