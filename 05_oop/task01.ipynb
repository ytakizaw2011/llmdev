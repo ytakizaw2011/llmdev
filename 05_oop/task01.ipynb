{
 "cells": [
  {
   "cell_type": "code",
   "execution_count": 12,
   "id": "157d3542",
   "metadata": {},
   "outputs": [],
   "source": [
    "class BankAccount:\n",
    "    def __init__(self, balance):\n",
    "        self.__balance = balance\n",
    "    \n",
    "    def get_balance(self):\n",
    "        return self.__balance\n",
    "    \n",
    "    def deposit(self, amount):\n",
    "        if amount < 0:\n",
    "            print(\"エラー： 正しい金額を入力してください\")\n",
    "            return 0\n",
    "        self.__balance += amount\n",
    "        return 1\n",
    "    \n",
    "    def withdraw(self, amount):\n",
    "        if amount <= 0 or amount > self.__balance:\n",
    "            print(\"エラー: 残高不足または無効な金額です\")\n",
    "            return 0\n",
    "        self.__balance -= amount\n",
    "        return 1\n",
    "\n",
    "    "
   ]
  },
  {
   "cell_type": "code",
   "execution_count": 13,
   "id": "7f38c46c",
   "metadata": {},
   "outputs": [
    {
     "name": "stdout",
     "output_type": "stream",
     "text": [
      "1300\n",
      "エラー: 残高不足または無効な金額です\n"
     ]
    }
   ],
   "source": [
    "ba = BankAccount(1000)\n",
    "\n",
    "if ba.deposit(500):\n",
    "    if ba.withdraw(200):\n",
    "        print(ba.get_balance())\n",
    "        ba.withdraw(1500)"
   ]
  }
 ],
 "metadata": {
  "kernelspec": {
   "display_name": ".venv",
   "language": "python",
   "name": "python3"
  },
  "language_info": {
   "codemirror_mode": {
    "name": "ipython",
    "version": 3
   },
   "file_extension": ".py",
   "mimetype": "text/x-python",
   "name": "python",
   "nbconvert_exporter": "python",
   "pygments_lexer": "ipython3",
   "version": "3.12.10"
  }
 },
 "nbformat": 4,
 "nbformat_minor": 5
}
