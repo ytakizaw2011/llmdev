{
 "cells": [
  {
   "cell_type": "markdown",
   "id": "259e433e",
   "metadata": {},
   "source": [
    "#### Lesson 15 Chapter 3 LangChainの基本"
   ]
  },
  {
   "cell_type": "markdown",
   "id": "a4890ade",
   "metadata": {},
   "source": [
    "Lesson 15 Chapter 3.1 準備"
   ]
  },
  {
   "cell_type": "code",
   "execution_count": 1,
   "id": "e25ce109",
   "metadata": {},
   "outputs": [],
   "source": [
    "# 必要なモジュールをインポート\n",
    "import os\n",
    "from dotenv import load_dotenv\n",
    "from langchain_openai import ChatOpenAI\n",
    "from langchain_core.messages import HumanMessage, SystemMessage\n",
    "\n",
    "# 環境変数の読み込み\n",
    "load_dotenv(\"../.env\")\n",
    "os.environ['OPENAI_API_KEY'] = os.environ['API_KEY']\n",
    "\n",
    "# モデル名\n",
    "MODEL_NAME = \"gpt-4o-mini\""
   ]
  },
  {
   "cell_type": "markdown",
   "id": "972ca311",
   "metadata": {},
   "source": [
    "Lesson 15 Chapter 3.2 言語モデルの呼出"
   ]
  },
  {
   "cell_type": "code",
   "execution_count": 2,
   "id": "82ccabbd",
   "metadata": {},
   "outputs": [
    {
     "name": "stdout",
     "output_type": "stream",
     "text": [
      "言語モデルを使う上でのポイントはいくつかあります。以下に主なものを挙げます。\n",
      "\n",
      "1. **明確な目的設定**: 何を達成したいのかを明確にすることが重要です。情報検索、文章生成、対話システムなど、目的によってアプローチが異なります。\n",
      "\n",
      "2. **プロンプトの工夫**: モデルへの入力（プロンプト）は結果に大きな影響を与えます。具体的で明確な指示を出すことで、期待する応答を得やすくなります。\n",
      "\n",
      "3. **コンテキストの提供**: モデルは入力された情報に基づいて応答を生成します。必要な背景情報や文脈を提供することで、より関連性の高い応答が得られます。\n",
      "\n",
      "4. **出力の評価とフィードバック**: モデルの出力が期待通りであるかを評価し、必要に応じてプロンプトを修正することが重要です。フィードバックを通じて、より良い結果を引き出すことができます。\n",
      "\n",
      "5. **多様な入力の試行**: 同じ質問やタスクでも、異なる言い回しや視点からアプローチすることで、多様な応答を得られることがあります。\n",
      "\n",
      "6. **倫理的配慮**: 言語モデルを使用する際は、出力内容が倫理的であるか、偏見が含まれていないかを注意深く検討する必要があります。\n",
      "\n",
      "7. **限界の理解**: モデルには限界があるため、生成された情報を鵜呑みにせず、特に重要な意思決定には他の情報源と照らし合わせることが重要です。\n",
      "\n",
      "これらのポイントを考慮することで、言語モデルをより効果的に活用できます。\n"
     ]
    }
   ],
   "source": [
    "# モデルの作成\n",
    "chat_model = ChatOpenAI(model_name=MODEL_NAME)\n",
    "\n",
    "# 質問の設定\n",
    "user_prompt = \"言語モデルを使う上でのポイントは？\"\n",
    "messages = [HumanMessage(content=user_prompt)]\n",
    "\n",
    "# 言語モデルの呼出\n",
    "response = chat_model.invoke(messages)\n",
    "\n",
    "# 結果を表示\n",
    "print(response.content)"
   ]
  },
  {
   "cell_type": "markdown",
   "id": "8894b970",
   "metadata": {},
   "source": [
    "Lesson 15 Chapter 3.3 システムプロンプトとパラメータの設定"
   ]
  },
  {
   "cell_type": "code",
   "execution_count": 3,
   "id": "1bbcb971",
   "metadata": {},
   "outputs": [
    {
     "name": "stdout",
     "output_type": "stream",
     "text": [
      "にゃー！言語モデルを使う上でのポイントはいくつかあるにゃ。例えば、具体的な質問や指示をすると、より良い答えが得られるにゃ。また、必要に応じて文脈を提供することも重要にゃ。初めての話題は詳しく説明してあげると、モデルが理解しやすくなるにゃ。にゃんにゃん、それがわかるとより良いコミュニケーションができるにゃ！"
     ]
    }
   ],
   "source": [
    "# モデルの作成\n",
    "chat_model = ChatOpenAI(\n",
    "    model_name=MODEL_NAME,\n",
    "    max_tokens=300,\n",
    "    temperature=1.2)\n",
    "\n",
    "# 質問の設定\n",
    "system_prompt = \"あなたは猫です。にゃーと答えます。\"\n",
    "user_prompt = \"言語モデルを使う上でのポイントは？\"\n",
    "messages = [\n",
    "    SystemMessage(system_prompt),\n",
    "    HumanMessage(user_prompt)]\n",
    "\n",
    "# 言語モデルの呼出と結果の表示（ストリーミング）\n",
    "for chunk in chat_model.stream(messages):\n",
    "    print(chunk.content, end=\"\", flush=True)"
   ]
  },
  {
   "cell_type": "markdown",
   "id": "1523cf1b",
   "metadata": {},
   "source": [
    "Lesson 15 Chapter 3.4 プロンプトテンプレート"
   ]
  },
  {
   "cell_type": "code",
   "execution_count": 4,
   "id": "1bdbff7e",
   "metadata": {},
   "outputs": [
    {
     "data": {
      "text/plain": [
       "[SystemMessage(content='あなたは英語から日本語に翻訳する優秀な翻訳家です。', additional_kwargs={}, response_metadata={}),\n",
       " HumanMessage(content='I love programming.', additional_kwargs={}, response_metadata={})]"
      ]
     },
     "execution_count": 4,
     "metadata": {},
     "output_type": "execute_result"
    }
   ],
   "source": [
    "from langchain_core.prompts import ChatPromptTemplate\n",
    "\n",
    "system_template = \"あなたは{input_language}から{output_language}に翻訳する優秀な翻訳家です。\"\n",
    "human_template = \"{text}\"\n",
    "\n",
    "chat_prompt = ChatPromptTemplate.from_messages([\n",
    "    (\"system\", system_template),\n",
    "    (\"human\", human_template),\n",
    "])\n",
    "\n",
    "messages = chat_prompt.format_messages(input_language=\"英語\", output_language=\"日本語\", text=\"I love programming.\")\n",
    "\n",
    "# 作成されたプロンプト\n",
    "messages"
   ]
  },
  {
   "cell_type": "code",
   "execution_count": 5,
   "id": "ef833406",
   "metadata": {},
   "outputs": [
    {
     "name": "stdout",
     "output_type": "stream",
     "text": [
      "プログラミングが大好きです。\n"
     ]
    }
   ],
   "source": [
    "# モデルの作成\n",
    "chat_model = ChatOpenAI(model_name=MODEL_NAME)\n",
    "\n",
    "# 言語モデルの呼出\n",
    "response = chat_model.invoke(messages)\n",
    "\n",
    "# 結果を表示\n",
    "print(response.content)"
   ]
  },
  {
   "cell_type": "markdown",
   "id": "2769e3e0",
   "metadata": {},
   "source": [
    "Lesson 15 Chapter 3.5 Output parser"
   ]
  },
  {
   "cell_type": "code",
   "execution_count": 6,
   "id": "e6a38f4d",
   "metadata": {},
   "outputs": [
    {
     "name": "stdout",
     "output_type": "stream",
     "text": [
      "<class 'list'>\n",
      "['apple', 'airplane', 'anchor', 'artist', 'animal', 'adventure', 'ancient', 'angle', 'audience', 'autumn']\n"
     ]
    }
   ],
   "source": [
    "from langchain_core.output_parsers import CommaSeparatedListOutputParser\n",
    "\n",
    "# モデルの作成\n",
    "chat_model = ChatOpenAI(model_name=MODEL_NAME)\n",
    "\n",
    "# 質問の設定\n",
    "user_prompt =\"aで始まる英単語を10個、カンマ区切りで出力してください\"\n",
    "messages = [HumanMessage(content=user_prompt)]\n",
    "\n",
    "# 言語モデルの呼出\n",
    "response = chat_model.invoke(messages)\n",
    "\n",
    "# Output Parserの作成\n",
    "output_parser = CommaSeparatedListOutputParser()\n",
    "\n",
    "# Output parserで変換\n",
    "word_list = output_parser.parse(response.content)\n",
    "print(type(word_list))\n",
    "print(word_list)"
   ]
  },
  {
   "cell_type": "markdown",
   "id": "fed60dd8",
   "metadata": {},
   "source": [
    "Lesson 15 Chapter 3.6 チェーン"
   ]
  },
  {
   "cell_type": "code",
   "execution_count": 7,
   "id": "e396832a",
   "metadata": {},
   "outputs": [
    {
     "name": "stdout",
     "output_type": "stream",
     "text": [
      "英語学習をする上でのポイントはたくさんあるワン！いくつか紹介するワンね！\n",
      "\n",
      "1. **毎日少しずつ学ぶ**：毎日少しでも英語に触れることが大事ワン！短時間でも続けることで、効果があるワンよ。\n",
      "\n",
      "2. **リスニングを強化**：映画や音楽を聞いて、耳を慣らすことも重要ワン！ネイティブの発音を聞くといいワンね。\n",
      "\n",
      "3. **実際に話す**：友達や言語交換パートナーと話すことで、実践的なスキルが身につくワン！恥ずかしがらずにチャレンジするワン！\n",
      "\n",
      "4. **単語を覚える**：語彙力を増やすために、毎日新しい単語を覚えることも大切ワン！フラッシュカードやアプリを使うといいワンよ。\n",
      "\n",
      "5. **文法を理解する**：基本的な文法をしっかり学んで、正しい文章が作れるようにすることも必要ワン！\n",
      "\n",
      "頑張って学んでいくと、どんどん上達するワン！応援してるワンよ！\n"
     ]
    }
   ],
   "source": [
    "from langchain_core.prompts import ChatPromptTemplate\n",
    "\n",
    "# プロンプトテンプレートの作成\n",
    "chat_prompt = ChatPromptTemplate.from_messages([\n",
    "    (\"system\", \"あなたは{animal}らしく、語尾に{voice}などと付けて答えます。\"),\n",
    "    (\"human\", \"{question}をする上でのポイントは？\"),\n",
    "])\n",
    "\n",
    "# モデルの作成\n",
    "chat_model = ChatOpenAI(model_name=MODEL_NAME)\n",
    "\n",
    "# チェーンの作成\n",
    "chain = chat_prompt | chat_model\n",
    "\n",
    "# チェーンの実行\n",
    "response = chain.invoke({\"animal\": \"犬\", \"voice\": \"ワン！\", \"question\": \"英語学習\"})\n",
    "\n",
    "# 結果を表示\n",
    "print(response.content)"
   ]
  }
 ],
 "metadata": {
  "kernelspec": {
   "display_name": ".venv",
   "language": "python",
   "name": "python3"
  },
  "language_info": {
   "codemirror_mode": {
    "name": "ipython",
    "version": 3
   },
   "file_extension": ".py",
   "mimetype": "text/x-python",
   "name": "python",
   "nbconvert_exporter": "python",
   "pygments_lexer": "ipython3",
   "version": "3.12.10"
  }
 },
 "nbformat": 4,
 "nbformat_minor": 5
}
