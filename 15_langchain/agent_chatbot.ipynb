{
 "cells": [
  {
   "cell_type": "markdown",
   "id": "7fcf28e8",
   "metadata": {},
   "source": [
    "#### Lesson 15 Chapter 5 LangGraphによるエージェントの構築"
   ]
  },
  {
   "cell_type": "markdown",
   "id": "aa527058",
   "metadata": {},
   "source": [
    "Lesson 15 Chapter 5.3 準備"
   ]
  },
  {
   "cell_type": "code",
   "execution_count": 7,
   "id": "4db8055b",
   "metadata": {},
   "outputs": [],
   "source": [
    "# 必要なモジュールをインポート\n",
    "import os\n",
    "from dotenv import load_dotenv\n",
    "from langchain_openai import ChatOpenAI\n",
    "\n",
    "# 環境変数の読み込み\n",
    "load_dotenv(\"../.env\")\n",
    "os.environ['OPENAI_API_KEY'] = os.environ['API_KEY']\n",
    "\n",
    "# モデル名\n",
    "MODEL_NAME = \"gpt-4o-mini\""
   ]
  },
  {
   "cell_type": "markdown",
   "id": "1b3bc5c6",
   "metadata": {},
   "source": [
    "Lesson 15 Chapter 5.4 ステートグラフの作成"
   ]
  },
  {
   "cell_type": "code",
   "execution_count": 8,
   "id": "c03a1177",
   "metadata": {},
   "outputs": [],
   "source": [
    "from typing import Annotated\n",
    "from typing_extensions import TypedDict\n",
    "from langgraph.graph import StateGraph\n",
    "from langgraph.graph.message import add_messages\n",
    "\n",
    "# ステートの定義\n",
    "class State(TypedDict):\n",
    "    # データを保存する属性\n",
    "    messages: Annotated[list, add_messages]\n",
    "\n",
    "# ステートグラフの作成\n",
    "graph_builder = StateGraph(State)"
   ]
  },
  {
   "cell_type": "markdown",
   "id": "01ce4d10",
   "metadata": {},
   "source": [
    "Lesson 15 Chapter 5.5 グラフの作成"
   ]
  },
  {
   "cell_type": "code",
   "execution_count": 9,
   "id": "7ecfbcd7",
   "metadata": {},
   "outputs": [],
   "source": [
    "# 言語モデルの定義\n",
    "llm = ChatOpenAI(model_name=MODEL_NAME)\n",
    "\n",
    "# チャットボットノードの作成\n",
    "def chatbot(state: State):\n",
    "    return {\"messages\": [llm.invoke(state[\"messages\"])]}\n",
    "\n",
    "# グラフにチャットボットノードを追加\n",
    "graph_builder.add_node(\"chatbot\", chatbot)\n",
    "\n",
    "# 開始ノードの指定\n",
    "graph_builder.set_entry_point(\"chatbot\")\n",
    "# 終了ノードの指定\n",
    "graph_builder.set_finish_point(\"chatbot\")\n",
    "\n",
    "# 実行可能なステートグラフの作成\n",
    "graph = graph_builder.compile()"
   ]
  },
  {
   "cell_type": "code",
   "execution_count": 10,
   "id": "a326cd02",
   "metadata": {},
   "outputs": [
    {
     "data": {
      "image/png": "[encoded data removed]",
      "text/plain": [
       "<IPython.core.display.Image object>"
      ]
     },
     "metadata": {},
     "output_type": "display_data"
    }
   ],
   "source": [
    "# グラフの可視化\n",
    "from IPython.display import Image, display\n",
    "\n",
    "display(Image(graph.get_graph().draw_mermaid_png()))"
   ]
  },
  {
   "cell_type": "markdown",
   "id": "4e8420be",
   "metadata": {},
   "source": [
    "Lesson 15 Chapter 5.6 動作確認"
   ]
  },
  {
   "cell_type": "code",
   "execution_count": 11,
   "id": "7a2271a9",
   "metadata": {},
   "outputs": [
    {
     "name": "stdout",
     "output_type": "stream",
     "text": [
      "{'messages': [HumanMessage(content='光の三原色は？', additional_kwargs={}, response_metadata={}, id='82440c9d-8ab1-4be0-aa28-5b75a1d3b343'), AIMessage(content='光の三原色は、赤（Red）、緑（Green）、青（Blue）です。これらの色を組み合わせることで、さまざまな色を表現することができます。この色の組み合わせは、RGBカラーシステムとして知られています。', additional_kwargs={'refusal': None}, response_metadata={'token_usage': {'completion_tokens': 64, 'prompt_tokens': 14, 'total_tokens': 78, 'completion_tokens_details': {'accepted_prediction_tokens': 0, 'audio_tokens': 0, 'reasoning_tokens': 0, 'rejected_prediction_tokens': 0}, 'prompt_tokens_details': {'audio_tokens': 0, 'cached_tokens': 0}}, 'model_name': 'gpt-4o-mini-2024-07-18', 'system_fingerprint': 'fp_560af6e559', 'finish_reason': 'stop', 'logprobs': None}, id='run-2e1ab676-6635-4af2-ac0e-b001b690de83-0', usage_metadata={'input_tokens': 14, 'output_tokens': 64, 'total_tokens': 78, 'input_token_details': {'audio': 0, 'cache_read': 0}, 'output_token_details': {'audio': 0, 'reasoning': 0}})]}\n"
     ]
    }
   ],
   "source": [
    "# グラフの実行\n",
    "response = graph.invoke({\"messages\": [(\"user\", \"光の三原色は？\")]})\n",
    "\n",
    "# 結果の表示\n",
    "print(response)"
   ]
  },
  {
   "cell_type": "code",
   "execution_count": 16,
   "id": "ff1ee5a3",
   "metadata": {},
   "outputs": [
    {
     "name": "stdout",
     "output_type": "stream",
     "text": [
      "光の三原色は、赤（Red）、緑（Green）、青（Blue）です。これらの色を組み合わせることで、さまざまな色を表現することができます。この色の組み合わせは、RGBカラーシステムとして知られています。\n"
     ]
    }
   ],
   "source": [
    "# 言語モデルからの回答のみを表示\n",
    "print(response[\"messages\"][-1].content)"
   ]
  },
  {
   "cell_type": "markdown",
   "id": "96f3fa2f",
   "metadata": {},
   "source": [
    "Lesson 15 Chapter 5.7 チャットボットシステムの作成"
   ]
  },
  {
   "cell_type": "code",
   "execution_count": 18,
   "id": "a4e89e8f",
   "metadata": {},
   "outputs": [
    {
     "name": "stdout",
     "output_type": "stream",
     "text": [
      "質問: こんにちは！\n",
      "回答 こんにちは！どうぞ、お話ししたいことがあれば教えてください。\n",
      "質問: aで始まる英単語を5つ教えて\n",
      "回答 もちろんです。「a」で始まる英単語を5つご紹介します。\n",
      "\n",
      "1. apple（リンゴ）\n",
      "2. animal（動物）\n",
      "3. amazing（驚くべき）\n",
      "4. adventure（冒険）\n",
      "5. artist（アーティスト）\n",
      "\n",
      "他にも知りたい単語があれば教えてください！\n",
      "質問: 3つ目の英単語は何ですか？\n",
      "回答 「3つ目の英単語」というのが具体的に何を指しているのか、もう少し詳しく教えていただけますか？特定のリストや文脈があれば、それに基づいてお答えします。\n",
      "ありがとうございました!\n"
     ]
    }
   ],
   "source": [
    "# グラフの実行と結果の表示\n",
    "def stream_graph_updates(user_input: str):\n",
    "    # 結果をストリーミングで得る\n",
    "    events = graph.stream({\"messages\": [(\"user\", user_input)]})\n",
    "    for event in events:\n",
    "        for value in event.values():\n",
    "            print(\"回答\", value[\"messages\"][-1].content, flush=True)\n",
    "\n",
    "# チャットボットのループ\n",
    "while True:\n",
    "    user_input = input(\"質問:\")\n",
    "    if user_input.strip()==\"\":\n",
    "        print(\"ありがとうございました!\")\n",
    "        break\n",
    "    print(\"質問:\", user_input, flush=True)\n",
    "    stream_graph_updates(user_input)\n"
   ]
  },
  {
   "cell_type": "markdown",
   "id": "2b8c1924",
   "metadata": {},
   "source": [
    "Lesson 15 Chapter 5.8 記憶を持たせる"
   ]
  },
  {
   "cell_type": "code",
   "execution_count": 19,
   "id": "4f3f3a23",
   "metadata": {},
   "outputs": [],
   "source": [
    "from langgraph.checkpoint.memory import MemorySaver\n",
    "\n",
    "# チェックポインタの作成\n",
    "memory = MemorySaver()\n",
    "\n",
    "# 記憶を持つ実行可能なステートグラフの作成\n",
    "memory_graph = graph_builder.compile(checkpointer=memory)"
   ]
  },
  {
   "cell_type": "code",
   "execution_count": 20,
   "id": "ec05adea",
   "metadata": {},
   "outputs": [
    {
     "name": "stdout",
     "output_type": "stream",
     "text": [
      "こんにちは！\n",
      "こんにちは！どういったことをお話ししましょうか？\n",
      "aで始まる英単語を5つ教えて\n",
      "もちろんです！以下は「a」で始まる英単語を5つ挙げます：\n",
      "\n",
      "1. Apple（リンゴ）\n",
      "2. Amazing（驚くべき）\n",
      "3. Adventure（冒険）\n",
      "4. Artist（アーティスト）\n",
      "5. Atmosphere（雰囲気、大気）\n",
      "\n",
      "他に知りたい単語があれば教えてください！\n",
      "4つ目の英単語は何ですか？\n",
      "4つ目の英単語は「Artist」です。意味は「アーティスト」や「芸術家」です。何か他に知りたいことがあれば教えてください！\n",
      "ありがとうございました!\n"
     ]
    }
   ],
   "source": [
    "# グラフの実行と結果の表示\n",
    "def stream_graph_updates(user_input: str):\n",
    "    events = memory_graph.stream(\n",
    "        {\"messages\": [(\"user\", user_input)]},\n",
    "        {\"configurable\": {\"thread_id\": \"1\"}},\n",
    "        stream_mode=\"values\")\n",
    "    # 結果をストリーミングで得る\n",
    "    for event in events:\n",
    "        print(event[\"messages\"][-1].content, flush=True)\n",
    "\n",
    "# チャットボットのグループ\n",
    "while True:\n",
    "    user_input = input(\"質問:\")\n",
    "    if user_input.strip()==\"\":\n",
    "        print(\"ありがとうございました!\")\n",
    "        break\n",
    "    stream_graph_updates(user_input)"
   ]
  }
 ],
 "metadata": {
  "kernelspec": {
   "display_name": ".venv",
   "language": "python",
   "name": "python3"
  },
  "language_info": {
   "codemirror_mode": {
    "name": "ipython",
    "version": 3
   },
   "file_extension": ".py",
   "mimetype": "text/x-python",
   "name": "python",
   "nbconvert_exporter": "python",
   "pygments_lexer": "ipython3",
   "version": "3.12.10"
  }
 },
 "nbformat": 4,
 "nbformat_minor": 5
}
