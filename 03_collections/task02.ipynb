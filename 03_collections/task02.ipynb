{
 "cells": [
  {
   "cell_type": "code",
   "execution_count": 7,
   "id": "3d89d0aa",
   "metadata": {},
   "outputs": [],
   "source": [
    "def word_input():\n",
    "    words = list()\n",
    "    \n",
    "    while True:\n",
    "        word = input(\"英単語を入力してください：\")\n",
    "\n",
    "        if word == \"\":\n",
    "            break\n",
    "\n",
    "        words.append(word)\n",
    "\n",
    "    words.sort()\n",
    "\n",
    "    return words"
   ]
  },
  {
   "cell_type": "code",
   "execution_count": 8,
   "id": "f0f789c3",
   "metadata": {},
   "outputs": [],
   "source": [
    "def count_letters(words, letters):\n",
    "    for word in words:\n",
    "        for key, value in letters.items():\n",
    "            letters[key] = int(letters[key]) + int(word.count(key))\n",
    "    \n",
    "    for key, value in letters.items():\n",
    "        if value > 0:\n",
    "            print(f\"{key}が{value}個ありました\")"
   ]
  },
  {
   "cell_type": "code",
   "execution_count": 10,
   "id": "74370d8e",
   "metadata": {},
   "outputs": [
    {
     "name": "stdout",
     "output_type": "stream",
     "text": [
      "入力した英単語：['bear', 'cat', 'dog', 'giraffe', 'horse', 'kangaroo']\n",
      "aが5個ありました\n",
      "bが1個ありました\n",
      "cが1個ありました\n",
      "dが1個ありました\n",
      "eが3個ありました\n",
      "fが2個ありました\n",
      "gが3個ありました\n",
      "hが1個ありました\n",
      "iが1個ありました\n",
      "kが1個ありました\n",
      "nが1個ありました\n",
      "oが4個ありました\n",
      "rが4個ありました\n",
      "sが1個ありました\n",
      "tが1個ありました\n"
     ]
    }
   ],
   "source": [
    "import string\n",
    "\n",
    "letters = dict()\n",
    "letters = dict.fromkeys(list(string.ascii_lowercase), 0)\n",
    "\n",
    "words = word_input()\n",
    "print(f\"入力した英単語：{words}\")\n",
    "\n",
    "count_letters(words, letters)"
   ]
  }
 ],
 "metadata": {
  "kernelspec": {
   "display_name": ".venv",
   "language": "python",
   "name": "python3"
  },
  "language_info": {
   "codemirror_mode": {
    "name": "ipython",
    "version": 3
   },
   "file_extension": ".py",
   "mimetype": "text/x-python",
   "name": "python",
   "nbconvert_exporter": "python",
   "pygments_lexer": "ipython3",
   "version": "3.12.10"
  }
 },
 "nbformat": 4,
 "nbformat_minor": 5
}
