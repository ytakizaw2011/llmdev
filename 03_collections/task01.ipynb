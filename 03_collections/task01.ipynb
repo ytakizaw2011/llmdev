{
 "cells": [
  {
   "cell_type": "code",
   "execution_count": null,
   "id": "30ebcaf7",
   "metadata": {},
   "outputs": [
    {
     "name": "stdout",
     "output_type": "stream",
     "text": [
      "平均点: 86.6\n",
      "最高点: 92\n",
      "最低点: 78\n",
      "平均以上の学生数: 3\n"
     ]
    }
   ],
   "source": [
    "grades = [85, 90, 78, 92, 88]\n",
    "grades.sort(reverse=True)  # 最高点,最低点を出すためにソート\n",
    "num = len(grades)  # 平均点を求めるために要素数を取っておく\n",
    "\n",
    "total = 0\n",
    "\n",
    "for score in grades:\n",
    "    total += score\n",
    "\n",
    "avg_score = round(total / num, 1)\n",
    "\n",
    "members = [i for i in grades if i >= avg_score]  # 平均点以上の要素のみを抽出\n",
    "member_num = len(members)\n",
    "\n",
    "print(\"平均点:\", avg_score)\n",
    "print(\"最高点:\", grades[0])\n",
    "print(\"最低点:\", grades[-1])\n",
    "print(\"平均以上の学生数:\", member_num)"
   ]
  }
 ],
 "metadata": {
  "kernelspec": {
   "display_name": ".venv",
   "language": "python",
   "name": "python3"
  },
  "language_info": {
   "codemirror_mode": {
    "name": "ipython",
    "version": 3
   },
   "file_extension": ".py",
   "mimetype": "text/x-python",
   "name": "python",
   "nbconvert_exporter": "python",
   "pygments_lexer": "ipython3",
   "version": "3.12.10"
  }
 },
 "nbformat": 4,
 "nbformat_minor": 5
}
